{
  "nbformat": 4,
  "nbformat_minor": 0,
  "metadata": {
    "colab": {
      "provenance": []
    },
    "kernelspec": {
      "name": "python3",
      "display_name": "Python 3"
    },
    "language_info": {
      "name": "python"
    },
    "accelerator": "GPU",
    "gpuClass": "standard"
  },
  "cells": [
    {
      "cell_type": "markdown",
      "source": [
        "## Installing and importing required libraries :"
      ],
      "metadata": {
        "id": "1ohTdb3E7Kpf"
      }
    },
    {
      "cell_type": "code",
      "execution_count": 1,
      "metadata": {
        "colab": {
          "base_uri": "https://localhost:8080/"
        },
        "id": "C9ZA3FcNEwHs",
        "outputId": "20c59381-d1e4-4ce0-bdac-fbf774dae01e"
      },
      "outputs": [
        {
          "output_type": "stream",
          "name": "stdout",
          "text": [
            "Looking in indexes: https://pypi.org/simple, https://us-python.pkg.dev/colab-wheels/public/simple/\n",
            "Requirement already satisfied: pandas-datareader in /usr/local/lib/python3.8/dist-packages (0.9.0)\n",
            "Requirement already satisfied: lxml in /usr/local/lib/python3.8/dist-packages (from pandas-datareader) (4.9.2)\n",
            "Requirement already satisfied: requests>=2.19.0 in /usr/local/lib/python3.8/dist-packages (from pandas-datareader) (2.23.0)\n",
            "Requirement already satisfied: pandas>=0.23 in /usr/local/lib/python3.8/dist-packages (from pandas-datareader) (1.3.5)\n",
            "Requirement already satisfied: pytz>=2017.3 in /usr/local/lib/python3.8/dist-packages (from pandas>=0.23->pandas-datareader) (2022.6)\n",
            "Requirement already satisfied: numpy>=1.17.3 in /usr/local/lib/python3.8/dist-packages (from pandas>=0.23->pandas-datareader) (1.21.6)\n",
            "Requirement already satisfied: python-dateutil>=2.7.3 in /usr/local/lib/python3.8/dist-packages (from pandas>=0.23->pandas-datareader) (2.8.2)\n",
            "Requirement already satisfied: six>=1.5 in /usr/local/lib/python3.8/dist-packages (from python-dateutil>=2.7.3->pandas>=0.23->pandas-datareader) (1.15.0)\n",
            "Requirement already satisfied: certifi>=2017.4.17 in /usr/local/lib/python3.8/dist-packages (from requests>=2.19.0->pandas-datareader) (2022.12.7)\n",
            "Requirement already satisfied: urllib3!=1.25.0,!=1.25.1,<1.26,>=1.21.1 in /usr/local/lib/python3.8/dist-packages (from requests>=2.19.0->pandas-datareader) (1.24.3)\n",
            "Requirement already satisfied: idna<3,>=2.5 in /usr/local/lib/python3.8/dist-packages (from requests>=2.19.0->pandas-datareader) (2.10)\n",
            "Requirement already satisfied: chardet<4,>=3.0.2 in /usr/local/lib/python3.8/dist-packages (from requests>=2.19.0->pandas-datareader) (3.0.4)\n"
          ]
        }
      ],
      "source": [
        "! pip install pandas-datareader\n"
      ]
    },
    {
      "cell_type": "code",
      "source": [
        "import pandas as pd\n",
        "import math\n",
        "from sklearn.metrics import mean_squared_error\n",
        "import pandas_datareader as pdr\n",
        "import matplotlib.pyplot as plt\n",
        "import numpy as np \n",
        "from sklearn.preprocessing import MinMaxScaler"
      ],
      "metadata": {
        "id": "aRB2mH9bO7Or"
      },
      "execution_count": 2,
      "outputs": []
    },
    {
      "cell_type": "code",
      "source": [
        "import tensorflow as tf\n",
        "from tensorflow import keras\n",
        "from keras.preprocessing.text import one_hot\n",
        "from keras_preprocessing.sequence import pad_sequences\n",
        "from keras.models import Sequential\n",
        "from keras.layers import Dense, Dropout, Flatten, BatchNormalization, Embedding, Activation, LSTM"
      ],
      "metadata": {
        "id": "sJK9vTv86Wbe"
      },
      "execution_count": 3,
      "outputs": []
    },
    {
      "cell_type": "code",
      "source": [
        "key = 'paste here your tiingo API Token found here : https://api.tiingo.com/documentation/general/overview'"
      ],
      "metadata": {
        "id": "wTPcojTzHxOA"
      },
      "execution_count": 4,
      "outputs": []
    },
    {
      "cell_type": "code",
      "source": [
        "df = pdr.get_data_tiingo('AAPL',api_key = key)"
      ],
      "metadata": {
        "colab": {
          "base_uri": "https://localhost:8080/"
        },
        "id": "mBhpd81OE3b3",
        "outputId": "b42469c1-73fe-457f-f800-56e15429b8bc"
      },
      "execution_count": 5,
      "outputs": [
        {
          "output_type": "stream",
          "name": "stderr",
          "text": [
            "/usr/local/lib/python3.8/dist-packages/pandas_datareader/tiingo.py:234: FutureWarning: In a future version of pandas all arguments of concat except for the argument 'objs' will be keyword-only\n",
            "  return pd.concat(dfs, self._concat_axis)\n"
          ]
        }
      ]
    },
    {
      "cell_type": "code",
      "source": [
        "df.to_csv('AAPL.csv')"
      ],
      "metadata": {
        "id": "hir139vDIbg0"
      },
      "execution_count": 6,
      "outputs": []
    },
    {
      "cell_type": "code",
      "source": [
        "df = pd.read_csv('/content/AAPL.csv')"
      ],
      "metadata": {
        "id": "G2KtoTM2O3ep"
      },
      "execution_count": 7,
      "outputs": []
    },
    {
      "cell_type": "code",
      "source": [
        "df.head()"
      ],
      "metadata": {
        "colab": {
          "base_uri": "https://localhost:8080/",
          "height": 206
        },
        "id": "9NairFqRJjuy",
        "outputId": "0668a2a4-9815-4c0a-9773-b10ed8bc5dbf"
      },
      "execution_count": 8,
      "outputs": [
        {
          "output_type": "execute_result",
          "data": {
            "text/plain": [
              "  symbol                       date   close    high     low    open    volume  \\\n",
              "0   AAPL  2017-12-18 00:00:00+00:00  176.42  177.20  174.86  174.88  28831533   \n",
              "1   AAPL  2017-12-19 00:00:00+00:00  174.54  175.39  174.09  175.03  27078872   \n",
              "2   AAPL  2017-12-20 00:00:00+00:00  174.35  175.42  173.25  174.87  23000392   \n",
              "3   AAPL  2017-12-21 00:00:00+00:00  175.01  176.02  174.10  174.17  20356826   \n",
              "4   AAPL  2017-12-22 00:00:00+00:00  175.01  175.42  174.50  174.68  16052615   \n",
              "\n",
              "    adjClose    adjHigh     adjLow    adjOpen  adjVolume  divCash  splitFactor  \n",
              "0  41.937498  42.122915  41.566664  41.571419  115326132      0.0          1.0  \n",
              "1  41.490596  41.692653  41.383624  41.607076  108315488      0.0          1.0  \n",
              "2  41.445430  41.699784  41.183945  41.569041   92001568      0.0          1.0  \n",
              "3  41.602321  41.842412  41.386002  41.402642   81427304      0.0          1.0  \n",
              "4  41.602321  41.699784  41.481087  41.523876   64210460      0.0          1.0  "
            ],
            "text/html": [
              "\n",
              "  <div id=\"df-9c4efa97-c66e-49ef-870c-90a7b7376dc7\">\n",
              "    <div class=\"colab-df-container\">\n",
              "      <div>\n",
              "<style scoped>\n",
              "    .dataframe tbody tr th:only-of-type {\n",
              "        vertical-align: middle;\n",
              "    }\n",
              "\n",
              "    .dataframe tbody tr th {\n",
              "        vertical-align: top;\n",
              "    }\n",
              "\n",
              "    .dataframe thead th {\n",
              "        text-align: right;\n",
              "    }\n",
              "</style>\n",
              "<table border=\"1\" class=\"dataframe\">\n",
              "  <thead>\n",
              "    <tr style=\"text-align: right;\">\n",
              "      <th></th>\n",
              "      <th>symbol</th>\n",
              "      <th>date</th>\n",
              "      <th>close</th>\n",
              "      <th>high</th>\n",
              "      <th>low</th>\n",
              "      <th>open</th>\n",
              "      <th>volume</th>\n",
              "      <th>adjClose</th>\n",
              "      <th>adjHigh</th>\n",
              "      <th>adjLow</th>\n",
              "      <th>adjOpen</th>\n",
              "      <th>adjVolume</th>\n",
              "      <th>divCash</th>\n",
              "      <th>splitFactor</th>\n",
              "    </tr>\n",
              "  </thead>\n",
              "  <tbody>\n",
              "    <tr>\n",
              "      <th>0</th>\n",
              "      <td>AAPL</td>\n",
              "      <td>2017-12-18 00:00:00+00:00</td>\n",
              "      <td>176.42</td>\n",
              "      <td>177.20</td>\n",
              "      <td>174.86</td>\n",
              "      <td>174.88</td>\n",
              "      <td>28831533</td>\n",
              "      <td>41.937498</td>\n",
              "      <td>42.122915</td>\n",
              "      <td>41.566664</td>\n",
              "      <td>41.571419</td>\n",
              "      <td>115326132</td>\n",
              "      <td>0.0</td>\n",
              "      <td>1.0</td>\n",
              "    </tr>\n",
              "    <tr>\n",
              "      <th>1</th>\n",
              "      <td>AAPL</td>\n",
              "      <td>2017-12-19 00:00:00+00:00</td>\n",
              "      <td>174.54</td>\n",
              "      <td>175.39</td>\n",
              "      <td>174.09</td>\n",
              "      <td>175.03</td>\n",
              "      <td>27078872</td>\n",
              "      <td>41.490596</td>\n",
              "      <td>41.692653</td>\n",
              "      <td>41.383624</td>\n",
              "      <td>41.607076</td>\n",
              "      <td>108315488</td>\n",
              "      <td>0.0</td>\n",
              "      <td>1.0</td>\n",
              "    </tr>\n",
              "    <tr>\n",
              "      <th>2</th>\n",
              "      <td>AAPL</td>\n",
              "      <td>2017-12-20 00:00:00+00:00</td>\n",
              "      <td>174.35</td>\n",
              "      <td>175.42</td>\n",
              "      <td>173.25</td>\n",
              "      <td>174.87</td>\n",
              "      <td>23000392</td>\n",
              "      <td>41.445430</td>\n",
              "      <td>41.699784</td>\n",
              "      <td>41.183945</td>\n",
              "      <td>41.569041</td>\n",
              "      <td>92001568</td>\n",
              "      <td>0.0</td>\n",
              "      <td>1.0</td>\n",
              "    </tr>\n",
              "    <tr>\n",
              "      <th>3</th>\n",
              "      <td>AAPL</td>\n",
              "      <td>2017-12-21 00:00:00+00:00</td>\n",
              "      <td>175.01</td>\n",
              "      <td>176.02</td>\n",
              "      <td>174.10</td>\n",
              "      <td>174.17</td>\n",
              "      <td>20356826</td>\n",
              "      <td>41.602321</td>\n",
              "      <td>41.842412</td>\n",
              "      <td>41.386002</td>\n",
              "      <td>41.402642</td>\n",
              "      <td>81427304</td>\n",
              "      <td>0.0</td>\n",
              "      <td>1.0</td>\n",
              "    </tr>\n",
              "    <tr>\n",
              "      <th>4</th>\n",
              "      <td>AAPL</td>\n",
              "      <td>2017-12-22 00:00:00+00:00</td>\n",
              "      <td>175.01</td>\n",
              "      <td>175.42</td>\n",
              "      <td>174.50</td>\n",
              "      <td>174.68</td>\n",
              "      <td>16052615</td>\n",
              "      <td>41.602321</td>\n",
              "      <td>41.699784</td>\n",
              "      <td>41.481087</td>\n",
              "      <td>41.523876</td>\n",
              "      <td>64210460</td>\n",
              "      <td>0.0</td>\n",
              "      <td>1.0</td>\n",
              "    </tr>\n",
              "  </tbody>\n",
              "</table>\n",
              "</div>\n",
              "      <button class=\"colab-df-convert\" onclick=\"convertToInteractive('df-9c4efa97-c66e-49ef-870c-90a7b7376dc7')\"\n",
              "              title=\"Convert this dataframe to an interactive table.\"\n",
              "              style=\"display:none;\">\n",
              "        \n",
              "  <svg xmlns=\"http://www.w3.org/2000/svg\" height=\"24px\"viewBox=\"0 0 24 24\"\n",
              "       width=\"24px\">\n",
              "    <path d=\"M0 0h24v24H0V0z\" fill=\"none\"/>\n",
              "    <path d=\"M18.56 5.44l.94 2.06.94-2.06 2.06-.94-2.06-.94-.94-2.06-.94 2.06-2.06.94zm-11 1L8.5 8.5l.94-2.06 2.06-.94-2.06-.94L8.5 2.5l-.94 2.06-2.06.94zm10 10l.94 2.06.94-2.06 2.06-.94-2.06-.94-.94-2.06-.94 2.06-2.06.94z\"/><path d=\"M17.41 7.96l-1.37-1.37c-.4-.4-.92-.59-1.43-.59-.52 0-1.04.2-1.43.59L10.3 9.45l-7.72 7.72c-.78.78-.78 2.05 0 2.83L4 21.41c.39.39.9.59 1.41.59.51 0 1.02-.2 1.41-.59l7.78-7.78 2.81-2.81c.8-.78.8-2.07 0-2.86zM5.41 20L4 18.59l7.72-7.72 1.47 1.35L5.41 20z\"/>\n",
              "  </svg>\n",
              "      </button>\n",
              "      \n",
              "  <style>\n",
              "    .colab-df-container {\n",
              "      display:flex;\n",
              "      flex-wrap:wrap;\n",
              "      gap: 12px;\n",
              "    }\n",
              "\n",
              "    .colab-df-convert {\n",
              "      background-color: #E8F0FE;\n",
              "      border: none;\n",
              "      border-radius: 50%;\n",
              "      cursor: pointer;\n",
              "      display: none;\n",
              "      fill: #1967D2;\n",
              "      height: 32px;\n",
              "      padding: 0 0 0 0;\n",
              "      width: 32px;\n",
              "    }\n",
              "\n",
              "    .colab-df-convert:hover {\n",
              "      background-color: #E2EBFA;\n",
              "      box-shadow: 0px 1px 2px rgba(60, 64, 67, 0.3), 0px 1px 3px 1px rgba(60, 64, 67, 0.15);\n",
              "      fill: #174EA6;\n",
              "    }\n",
              "\n",
              "    [theme=dark] .colab-df-convert {\n",
              "      background-color: #3B4455;\n",
              "      fill: #D2E3FC;\n",
              "    }\n",
              "\n",
              "    [theme=dark] .colab-df-convert:hover {\n",
              "      background-color: #434B5C;\n",
              "      box-shadow: 0px 1px 3px 1px rgba(0, 0, 0, 0.15);\n",
              "      filter: drop-shadow(0px 1px 2px rgba(0, 0, 0, 0.3));\n",
              "      fill: #FFFFFF;\n",
              "    }\n",
              "  </style>\n",
              "\n",
              "      <script>\n",
              "        const buttonEl =\n",
              "          document.querySelector('#df-9c4efa97-c66e-49ef-870c-90a7b7376dc7 button.colab-df-convert');\n",
              "        buttonEl.style.display =\n",
              "          google.colab.kernel.accessAllowed ? 'block' : 'none';\n",
              "\n",
              "        async function convertToInteractive(key) {\n",
              "          const element = document.querySelector('#df-9c4efa97-c66e-49ef-870c-90a7b7376dc7');\n",
              "          const dataTable =\n",
              "            await google.colab.kernel.invokeFunction('convertToInteractive',\n",
              "                                                     [key], {});\n",
              "          if (!dataTable) return;\n",
              "\n",
              "          const docLinkHtml = 'Like what you see? Visit the ' +\n",
              "            '<a target=\"_blank\" href=https://colab.research.google.com/notebooks/data_table.ipynb>data table notebook</a>'\n",
              "            + ' to learn more about interactive tables.';\n",
              "          element.innerHTML = '';\n",
              "          dataTable['output_type'] = 'display_data';\n",
              "          await google.colab.output.renderOutput(dataTable, element);\n",
              "          const docLink = document.createElement('div');\n",
              "          docLink.innerHTML = docLinkHtml;\n",
              "          element.appendChild(docLink);\n",
              "        }\n",
              "      </script>\n",
              "    </div>\n",
              "  </div>\n",
              "  "
            ]
          },
          "metadata": {},
          "execution_count": 8
        }
      ]
    },
    {
      "cell_type": "code",
      "source": [
        "df1 = df.reset_index()['close']"
      ],
      "metadata": {
        "id": "XF-8l5gwJxiX"
      },
      "execution_count": 9,
      "outputs": []
    },
    {
      "cell_type": "code",
      "source": [
        "df1.shape"
      ],
      "metadata": {
        "colab": {
          "base_uri": "https://localhost:8080/"
        },
        "id": "bHv67aG4OrwR",
        "outputId": "07dd6b58-0741-4849-a24c-ea08cd961a37"
      },
      "execution_count": 10,
      "outputs": [
        {
          "output_type": "execute_result",
          "data": {
            "text/plain": [
              "(1259,)"
            ]
          },
          "metadata": {},
          "execution_count": 10
        }
      ]
    },
    {
      "cell_type": "code",
      "source": [
        "plt.plot(df1)"
      ],
      "metadata": {
        "colab": {
          "base_uri": "https://localhost:8080/",
          "height": 283
        },
        "id": "PLm14Ny7PdCO",
        "outputId": "5d658064-feb6-4274-e974-0c43106338a6"
      },
      "execution_count": 11,
      "outputs": [
        {
          "output_type": "execute_result",
          "data": {
            "text/plain": [
              "[<matplotlib.lines.Line2D at 0x7f7c9e1d9c10>]"
            ]
          },
          "metadata": {},
          "execution_count": 11
        },
        {
          "output_type": "display_data",
          "data": {
            "text/plain": [
              "<Figure size 432x288 with 1 Axes>"
            ],
            "image/png": "[encoded data removed]"
          },
          "metadata": {
            "needs_background": "light"
          }
        }
      ]
    },
    {
      "cell_type": "code",
      "source": [
        "df1"
      ],
      "metadata": {
        "colab": {
          "base_uri": "https://localhost:8080/"
        },
        "id": "x1k6-rvqOrsO",
        "outputId": "449ea579-34cf-45ec-82b8-2c9a620e7deb"
      },
      "execution_count": 12,
      "outputs": [
        {
          "output_type": "execute_result",
          "data": {
            "text/plain": [
              "0       176.42\n",
              "1       174.54\n",
              "2       174.35\n",
              "3       175.01\n",
              "4       175.01\n",
              "         ...  \n",
              "1254    144.49\n",
              "1255    145.47\n",
              "1256    143.21\n",
              "1257    136.50\n",
              "1258    134.51\n",
              "Name: close, Length: 1259, dtype: float64"
            ]
          },
          "metadata": {},
          "execution_count": 12
        }
      ]
    },
    {
      "cell_type": "markdown",
      "source": [
        "## Splitting and Scaling :"
      ],
      "metadata": {
        "id": "3rgR06Z_vDKL"
      }
    },
    {
      "cell_type": "code",
      "source": [
        "len(df1)"
      ],
      "metadata": {
        "colab": {
          "base_uri": "https://localhost:8080/"
        },
        "id": "gMm17o47dHp7",
        "outputId": "71037f00-c1eb-4688-f491-89a9f72e0b45"
      },
      "execution_count": 13,
      "outputs": [
        {
          "output_type": "execute_result",
          "data": {
            "text/plain": [
              "1259"
            ]
          },
          "metadata": {},
          "execution_count": 13
        }
      ]
    },
    {
      "cell_type": "code",
      "source": [
        "training_size=int(len(df1)*0.7)\n",
        "test_size=len(df1)-training_size\n",
        "train_data,test_data=np.array(df1).reshape(-1,1)[0:training_size,:],np.array(df1).reshape(-1,1)[training_size:len(df1),:1]"
      ],
      "metadata": {
        "id": "G0S4KvarcpPh"
      },
      "execution_count": 14,
      "outputs": []
    },
    {
      "cell_type": "code",
      "source": [
        "training_size,test_size "
      ],
      "metadata": {
        "colab": {
          "base_uri": "https://localhost:8080/"
        },
        "id": "nfSU50ciUyHu",
        "outputId": "a1596919-9b26-4e4d-985d-4166a6cd4130"
      },
      "execution_count": 15,
      "outputs": [
        {
          "output_type": "execute_result",
          "data": {
            "text/plain": [
              "(881, 378)"
            ]
          },
          "metadata": {},
          "execution_count": 15
        }
      ]
    },
    {
      "cell_type": "code",
      "source": [
        "scaler = MinMaxScaler()\n",
        "train_data = scaler.fit_transform(train_data)\n",
        "test_data = scaler.transform(test_data)"
      ],
      "metadata": {
        "id": "fdkeVvNKOrnJ"
      },
      "execution_count": 16,
      "outputs": []
    },
    {
      "cell_type": "code",
      "source": [
        "test_data[0:12,:]"
      ],
      "metadata": {
        "colab": {
          "base_uri": "https://localhost:8080/"
        },
        "id": "7Dkj-_OWdjwj",
        "outputId": "fb21faec-28bc-4116-add4-66e6d7f8a552"
      },
      "execution_count": 17,
      "outputs": [
        {
          "output_type": "execute_result",
          "data": {
            "text/plain": [
              "array([[0.06376957],\n",
              "       [0.06797746],\n",
              "       [0.06727614],\n",
              "       [0.06654978],\n",
              "       [0.06579837],\n",
              "       [0.06998121],\n",
              "       [0.07386349],\n",
              "       [0.07544145],\n",
              "       [0.07621791],\n",
              "       [0.08295554],\n",
              "       [0.08811522],\n",
              "       [0.09450219]])"
            ]
          },
          "metadata": {},
          "execution_count": 17
        }
      ]
    },
    {
      "cell_type": "code",
      "source": [
        "pd.DataFrame(train_data).plot(kind='density', subplots=True, sharex=False)\n",
        "plt.show();"
      ],
      "metadata": {
        "colab": {
          "base_uri": "https://localhost:8080/",
          "height": 265
        },
        "id": "Pk3EKDxlezAt",
        "outputId": "2b240478-450f-47a5-d193-1544e843913b"
      },
      "execution_count": 18,
      "outputs": [
        {
          "output_type": "display_data",
          "data": {
            "text/plain": [
              "<Figure size 432x288 with 1 Axes>"
            ],
            "image/png": "[encoded data removed]"
          },
          "metadata": {
            "needs_background": "light"
          }
        }
      ]
    },
    {
      "cell_type": "code",
      "source": [
        "pd.DataFrame(test_data).plot(kind='density', subplots=True, sharex=False)\n",
        "plt.show();"
      ],
      "metadata": {
        "colab": {
          "base_uri": "https://localhost:8080/",
          "height": 265
        },
        "id": "zT3TzsE_vKj6",
        "outputId": "f3b4e165-5856-400e-dbdd-623b4465975e"
      },
      "execution_count": 19,
      "outputs": [
        {
          "output_type": "display_data",
          "data": {
            "text/plain": [
              "<Figure size 432x288 with 1 Axes>"
            ],
            "image/png": "[encoded data removed]"
          },
          "metadata": {
            "needs_background": "light"
          }
        }
      ]
    },
    {
      "cell_type": "markdown",
      "source": [
        "## Creating time series Data :"
      ],
      "metadata": {
        "id": "GEsiihGozkym"
      }
    },
    {
      "cell_type": "markdown",
      "source": [
        "### Treating instances as if they are features :"
      ],
      "metadata": {
        "id": "HSiy7CNQ5c2N"
      }
    },
    {
      "cell_type": "code",
      "source": [
        "def create_dataset(dataset, time_step=1):\n",
        "\tdataX, dataY = [], []\n",
        "\tfor i in range(len(dataset)-time_step-1):\n",
        "\t\ta = dataset[i:(i+time_step), 0]  \n",
        "\t\tdataX.append(a)\n",
        "\t\tdataY.append(dataset[i + time_step, 0])\n",
        "\treturn np.array(dataX), np.array(dataY)"
      ],
      "metadata": {
        "id": "9CdrQFBofP0e"
      },
      "execution_count": 20,
      "outputs": []
    },
    {
      "cell_type": "code",
      "source": [
        "time_step = 100\n",
        "X_train , y_train = create_dataset(train_data, time_step)\n",
        "X_test , y_test = create_dataset(test_data, time_step)"
      ],
      "metadata": {
        "id": "zJ1NEsVIzwTL"
      },
      "execution_count": 21,
      "outputs": []
    },
    {
      "cell_type": "code",
      "source": [
        "X_train.shape,y_train.shape"
      ],
      "metadata": {
        "colab": {
          "base_uri": "https://localhost:8080/"
        },
        "id": "VvdKpzXz5SUD",
        "outputId": "b2b07c6b-fe80-4864-d480-a893de8db491"
      },
      "execution_count": 22,
      "outputs": [
        {
          "output_type": "execute_result",
          "data": {
            "text/plain": [
              "((780, 100), (780,))"
            ]
          },
          "metadata": {},
          "execution_count": 22
        }
      ]
    },
    {
      "cell_type": "code",
      "source": [
        "X_train =X_train.reshape(X_train.shape[0],X_train.shape[1] , 1)\n",
        "X_test = X_test.reshape(X_test.shape[0],X_test.shape[1] , 1)"
      ],
      "metadata": {
        "id": "kxYFrRzS5zMo"
      },
      "execution_count": 23,
      "outputs": []
    },
    {
      "cell_type": "markdown",
      "source": [
        "## Creating Model :"
      ],
      "metadata": {
        "id": "AdQkjX7W6TSE"
      }
    },
    {
      "cell_type": "code",
      "source": [
        "model=Sequential()\n",
        "model.add(LSTM(80,return_sequences=True,input_shape=(100,1)))\n",
        "model.add(LSTM(60,return_sequences=True))\n",
        "model.add(LSTM(50))\n",
        "#model.add(LSTM(50,return_sequences=True))\n",
        "model.add(Dropout(.4))\n",
        "model.add(Dense(1))"
      ],
      "metadata": {
        "id": "qhHlzqBJ75IT"
      },
      "execution_count": 24,
      "outputs": []
    },
    {
      "cell_type": "code",
      "source": [
        "model.summary()"
      ],
      "metadata": {
        "colab": {
          "base_uri": "https://localhost:8080/"
        },
        "id": "lq8gD_g78BeK",
        "outputId": "579e0904-823a-431f-a4cc-acf6262c649d"
      },
      "execution_count": 25,
      "outputs": [
        {
          "output_type": "stream",
          "name": "stdout",
          "text": [
            "Model: \"sequential\"\n",
            "_________________________________________________________________\n",
            " Layer (type)                Output Shape              Param #   \n",
            "=================================================================\n",
            " lstm (LSTM)                 (None, 100, 80)           26240     \n",
            "                                                                 \n",
            " lstm_1 (LSTM)               (None, 100, 60)           33840     \n",
            "                                                                 \n",
            " lstm_2 (LSTM)               (None, 50)                22200     \n",
            "                                                                 \n",
            " dropout (Dropout)           (None, 50)                0         \n",
            "                                                                 \n",
            " dense (Dense)               (None, 1)                 51        \n",
            "                                                                 \n",
            "=================================================================\n",
            "Total params: 82,331\n",
            "Trainable params: 82,331\n",
            "Non-trainable params: 0\n",
            "_________________________________________________________________\n"
          ]
        }
      ]
    },
    {
      "cell_type": "code",
      "source": [
        "model.compile(loss='mse',optimizer=tf.keras.optimizers.Adam(learning_rate=.001))"
      ],
      "metadata": {
        "id": "fnKIMG728Aiq"
      },
      "execution_count": 26,
      "outputs": []
    },
    {
      "cell_type": "markdown",
      "source": [
        "### Training"
      ],
      "metadata": {
        "id": "q00B2TRb8SF7"
      }
    },
    {
      "cell_type": "code",
      "source": [
        "model.fit(X_train,y_train,validation_data=(X_test,y_test),epochs=100,batch_size=32,verbose=1)"
      ],
      "metadata": {
        "colab": {
          "base_uri": "https://localhost:8080/"
        },
        "id": "cYe4exBD8J6P",
        "outputId": "7dd93b53-745b-4f1f-cd9b-88f02c65ed61"
      },
      "execution_count": 27,
      "outputs": [
        {
          "output_type": "stream",
          "name": "stdout",
          "text": [
            "Epoch 1/100\n",
            "25/25 [==============================] - 12s 118ms/step - loss: 0.0203 - val_loss: 0.0019\n",
            "Epoch 2/100\n",
            "25/25 [==============================] - 1s 29ms/step - loss: 0.0125 - val_loss: 6.7962e-04\n",
            "Epoch 3/100\n",
            "25/25 [==============================] - 1s 31ms/step - loss: 0.0092 - val_loss: 3.3824e-04\n",
            "Epoch 4/100\n",
            "25/25 [==============================] - 1s 32ms/step - loss: 0.0088 - val_loss: 3.5891e-04\n",
            "Epoch 5/100\n",
            "25/25 [==============================] - 1s 33ms/step - loss: 0.0081 - val_loss: 4.3220e-04\n",
            "Epoch 6/100\n",
            "25/25 [==============================] - 1s 33ms/step - loss: 0.0088 - val_loss: 3.4585e-04\n",
            "Epoch 7/100\n",
            "25/25 [==============================] - 1s 36ms/step - loss: 0.0068 - val_loss: 8.1287e-04\n",
            "Epoch 8/100\n",
            "25/25 [==============================] - 1s 32ms/step - loss: 0.0065 - val_loss: 6.2264e-04\n",
            "Epoch 9/100\n",
            "25/25 [==============================] - 1s 31ms/step - loss: 0.0061 - val_loss: 2.9536e-04\n",
            "Epoch 10/100\n",
            "25/25 [==============================] - 1s 32ms/step - loss: 0.0054 - val_loss: 3.3302e-04\n",
            "Epoch 11/100\n",
            "25/25 [==============================] - 1s 29ms/step - loss: 0.0087 - val_loss: 3.6215e-04\n",
            "Epoch 12/100\n",
            "25/25 [==============================] - 1s 30ms/step - loss: 0.0062 - val_loss: 3.7061e-04\n",
            "Epoch 13/100\n",
            "25/25 [==============================] - 1s 29ms/step - loss: 0.0068 - val_loss: 3.1927e-04\n",
            "Epoch 14/100\n",
            "25/25 [==============================] - 1s 30ms/step - loss: 0.0054 - val_loss: 9.9786e-04\n",
            "Epoch 15/100\n",
            "25/25 [==============================] - 0s 17ms/step - loss: 0.0051 - val_loss: 2.5531e-04\n",
            "Epoch 16/100\n",
            "25/25 [==============================] - 0s 17ms/step - loss: 0.0063 - val_loss: 3.0164e-04\n",
            "Epoch 17/100\n",
            "25/25 [==============================] - 0s 17ms/step - loss: 0.0049 - val_loss: 6.6645e-04\n",
            "Epoch 18/100\n",
            "25/25 [==============================] - 0s 17ms/step - loss: 0.0046 - val_loss: 2.3886e-04\n",
            "Epoch 19/100\n",
            "25/25 [==============================] - 0s 17ms/step - loss: 0.0049 - val_loss: 3.6806e-04\n",
            "Epoch 20/100\n",
            "25/25 [==============================] - 0s 17ms/step - loss: 0.0050 - val_loss: 2.6150e-04\n",
            "Epoch 21/100\n",
            "25/25 [==============================] - 0s 16ms/step - loss: 0.0053 - val_loss: 0.0024\n",
            "Epoch 22/100\n",
            "25/25 [==============================] - 0s 17ms/step - loss: 0.0039 - val_loss: 2.3174e-04\n",
            "Epoch 23/100\n",
            "25/25 [==============================] - 0s 17ms/step - loss: 0.0038 - val_loss: 3.2854e-04\n",
            "Epoch 24/100\n",
            "25/25 [==============================] - 0s 17ms/step - loss: 0.0040 - val_loss: 6.3385e-04\n",
            "Epoch 25/100\n",
            "25/25 [==============================] - 0s 17ms/step - loss: 0.0050 - val_loss: 2.7086e-04\n",
            "Epoch 26/100\n",
            "25/25 [==============================] - 0s 17ms/step - loss: 0.0034 - val_loss: 5.4958e-04\n",
            "Epoch 27/100\n",
            "25/25 [==============================] - 0s 17ms/step - loss: 0.0038 - val_loss: 2.6330e-04\n",
            "Epoch 28/100\n",
            "25/25 [==============================] - 0s 17ms/step - loss: 0.0037 - val_loss: 3.3549e-04\n",
            "Epoch 29/100\n",
            "25/25 [==============================] - 0s 17ms/step - loss: 0.0035 - val_loss: 2.3469e-04\n",
            "Epoch 30/100\n",
            "25/25 [==============================] - 0s 18ms/step - loss: 0.0031 - val_loss: 2.8175e-04\n",
            "Epoch 31/100\n",
            "25/25 [==============================] - 0s 17ms/step - loss: 0.0032 - val_loss: 2.2787e-04\n",
            "Epoch 32/100\n",
            "25/25 [==============================] - 0s 20ms/step - loss: 0.0027 - val_loss: 3.6171e-04\n",
            "Epoch 33/100\n",
            "25/25 [==============================] - 1s 24ms/step - loss: 0.0049 - val_loss: 8.4039e-04\n",
            "Epoch 34/100\n",
            "25/25 [==============================] - 1s 24ms/step - loss: 0.0052 - val_loss: 3.7295e-04\n",
            "Epoch 35/100\n",
            "25/25 [==============================] - 1s 24ms/step - loss: 0.0043 - val_loss: 3.2590e-04\n",
            "Epoch 36/100\n",
            "25/25 [==============================] - 1s 21ms/step - loss: 0.0036 - val_loss: 2.1415e-04\n",
            "Epoch 37/100\n",
            "25/25 [==============================] - 0s 17ms/step - loss: 0.0035 - val_loss: 8.3861e-04\n",
            "Epoch 38/100\n",
            "25/25 [==============================] - 1s 27ms/step - loss: 0.0042 - val_loss: 2.6709e-04\n",
            "Epoch 39/100\n",
            "25/25 [==============================] - 0s 19ms/step - loss: 0.0032 - val_loss: 0.0011\n",
            "Epoch 40/100\n",
            "25/25 [==============================] - 0s 17ms/step - loss: 0.0031 - val_loss: 2.0648e-04\n",
            "Epoch 41/100\n",
            "25/25 [==============================] - 0s 16ms/step - loss: 0.0033 - val_loss: 2.4036e-04\n",
            "Epoch 42/100\n",
            "25/25 [==============================] - 0s 17ms/step - loss: 0.0033 - val_loss: 2.4388e-04\n",
            "Epoch 43/100\n",
            "25/25 [==============================] - 0s 17ms/step - loss: 0.0026 - val_loss: 3.6948e-04\n",
            "Epoch 44/100\n",
            "25/25 [==============================] - 0s 16ms/step - loss: 0.0031 - val_loss: 2.2212e-04\n",
            "Epoch 45/100\n",
            "25/25 [==============================] - 0s 17ms/step - loss: 0.0032 - val_loss: 1.8920e-04\n",
            "Epoch 46/100\n",
            "25/25 [==============================] - 0s 17ms/step - loss: 0.0031 - val_loss: 3.3361e-04\n",
            "Epoch 47/100\n",
            "25/25 [==============================] - 0s 17ms/step - loss: 0.0035 - val_loss: 2.8551e-04\n",
            "Epoch 48/100\n",
            "25/25 [==============================] - 0s 17ms/step - loss: 0.0037 - val_loss: 2.9702e-04\n",
            "Epoch 49/100\n",
            "25/25 [==============================] - 0s 16ms/step - loss: 0.0026 - val_loss: 2.1368e-04\n",
            "Epoch 50/100\n",
            "25/25 [==============================] - 0s 17ms/step - loss: 0.0029 - val_loss: 2.2137e-04\n",
            "Epoch 51/100\n",
            "25/25 [==============================] - 0s 17ms/step - loss: 0.0029 - val_loss: 5.6751e-04\n",
            "Epoch 52/100\n",
            "25/25 [==============================] - 0s 17ms/step - loss: 0.0033 - val_loss: 2.0517e-04\n",
            "Epoch 53/100\n",
            "25/25 [==============================] - 0s 17ms/step - loss: 0.0029 - val_loss: 2.0054e-04\n",
            "Epoch 54/100\n",
            "25/25 [==============================] - 0s 17ms/step - loss: 0.0031 - val_loss: 1.9046e-04\n",
            "Epoch 55/100\n",
            "25/25 [==============================] - 0s 18ms/step - loss: 0.0022 - val_loss: 1.8652e-04\n",
            "Epoch 56/100\n",
            "25/25 [==============================] - 0s 16ms/step - loss: 0.0021 - val_loss: 2.0473e-04\n",
            "Epoch 57/100\n",
            "25/25 [==============================] - 0s 17ms/step - loss: 0.0033 - val_loss: 2.0561e-04\n",
            "Epoch 58/100\n",
            "25/25 [==============================] - 0s 17ms/step - loss: 0.0027 - val_loss: 2.1343e-04\n",
            "Epoch 59/100\n",
            "25/25 [==============================] - 0s 17ms/step - loss: 0.0027 - val_loss: 1.9672e-04\n",
            "Epoch 60/100\n",
            "25/25 [==============================] - 0s 17ms/step - loss: 0.0025 - val_loss: 1.9832e-04\n",
            "Epoch 61/100\n",
            "25/25 [==============================] - 0s 16ms/step - loss: 0.0026 - val_loss: 2.3214e-04\n",
            "Epoch 62/100\n",
            "25/25 [==============================] - 0s 17ms/step - loss: 0.0022 - val_loss: 2.2213e-04\n",
            "Epoch 63/100\n",
            "25/25 [==============================] - 0s 17ms/step - loss: 0.0024 - val_loss: 1.8007e-04\n",
            "Epoch 64/100\n",
            "25/25 [==============================] - 0s 17ms/step - loss: 0.0025 - val_loss: 1.7382e-04\n",
            "Epoch 65/100\n",
            "25/25 [==============================] - 0s 16ms/step - loss: 0.0021 - val_loss: 2.4450e-04\n",
            "Epoch 66/100\n",
            "25/25 [==============================] - 0s 18ms/step - loss: 0.0018 - val_loss: 2.3835e-04\n",
            "Epoch 67/100\n",
            "25/25 [==============================] - 0s 16ms/step - loss: 0.0019 - val_loss: 1.7554e-04\n",
            "Epoch 68/100\n",
            "25/25 [==============================] - 0s 16ms/step - loss: 0.0019 - val_loss: 1.8759e-04\n",
            "Epoch 69/100\n",
            "25/25 [==============================] - 0s 17ms/step - loss: 0.0020 - val_loss: 2.0410e-04\n",
            "Epoch 70/100\n",
            "25/25 [==============================] - 0s 17ms/step - loss: 0.0016 - val_loss: 2.1633e-04\n",
            "Epoch 71/100\n",
            "25/25 [==============================] - 0s 17ms/step - loss: 0.0020 - val_loss: 1.7224e-04\n",
            "Epoch 72/100\n",
            "25/25 [==============================] - 0s 17ms/step - loss: 0.0019 - val_loss: 1.7740e-04\n",
            "Epoch 73/100\n",
            "25/25 [==============================] - 0s 17ms/step - loss: 0.0020 - val_loss: 3.0475e-04\n",
            "Epoch 74/100\n",
            "25/25 [==============================] - 0s 17ms/step - loss: 0.0017 - val_loss: 1.7551e-04\n",
            "Epoch 75/100\n",
            "25/25 [==============================] - 0s 17ms/step - loss: 0.0019 - val_loss: 2.0586e-04\n",
            "Epoch 76/100\n",
            "25/25 [==============================] - 0s 17ms/step - loss: 0.0028 - val_loss: 7.8354e-04\n",
            "Epoch 77/100\n",
            "25/25 [==============================] - 0s 18ms/step - loss: 0.0024 - val_loss: 2.3246e-04\n",
            "Epoch 78/100\n",
            "25/25 [==============================] - 0s 18ms/step - loss: 0.0019 - val_loss: 1.7692e-04\n",
            "Epoch 79/100\n",
            "25/25 [==============================] - 0s 17ms/step - loss: 0.0023 - val_loss: 2.2712e-04\n",
            "Epoch 80/100\n",
            "25/25 [==============================] - 0s 17ms/step - loss: 0.0026 - val_loss: 1.7108e-04\n",
            "Epoch 81/100\n",
            "25/25 [==============================] - 0s 17ms/step - loss: 0.0017 - val_loss: 1.6157e-04\n",
            "Epoch 82/100\n",
            "25/25 [==============================] - 0s 17ms/step - loss: 0.0019 - val_loss: 1.7708e-04\n",
            "Epoch 83/100\n",
            "25/25 [==============================] - 0s 17ms/step - loss: 0.0019 - val_loss: 1.9123e-04\n",
            "Epoch 84/100\n",
            "25/25 [==============================] - 0s 17ms/step - loss: 0.0019 - val_loss: 2.0144e-04\n",
            "Epoch 85/100\n",
            "25/25 [==============================] - 1s 20ms/step - loss: 0.0015 - val_loss: 1.7418e-04\n",
            "Epoch 86/100\n",
            "25/25 [==============================] - 0s 17ms/step - loss: 0.0015 - val_loss: 1.6134e-04\n",
            "Epoch 87/100\n",
            "25/25 [==============================] - 0s 17ms/step - loss: 0.0019 - val_loss: 1.5693e-04\n",
            "Epoch 88/100\n",
            "25/25 [==============================] - 0s 17ms/step - loss: 0.0028 - val_loss: 8.9421e-04\n",
            "Epoch 89/100\n",
            "25/25 [==============================] - 0s 17ms/step - loss: 0.0022 - val_loss: 2.6208e-04\n",
            "Epoch 90/100\n",
            "25/25 [==============================] - 0s 17ms/step - loss: 0.0019 - val_loss: 1.9292e-04\n",
            "Epoch 91/100\n",
            "25/25 [==============================] - 0s 17ms/step - loss: 0.0020 - val_loss: 1.7289e-04\n",
            "Epoch 92/100\n",
            "25/25 [==============================] - 0s 17ms/step - loss: 0.0021 - val_loss: 1.5353e-04\n",
            "Epoch 93/100\n",
            "25/25 [==============================] - 0s 17ms/step - loss: 0.0022 - val_loss: 2.1851e-04\n",
            "Epoch 94/100\n",
            "25/25 [==============================] - 0s 17ms/step - loss: 0.0026 - val_loss: 3.3416e-04\n",
            "Epoch 95/100\n",
            "25/25 [==============================] - 0s 17ms/step - loss: 0.0022 - val_loss: 2.2171e-04\n",
            "Epoch 96/100\n",
            "25/25 [==============================] - 0s 16ms/step - loss: 0.0017 - val_loss: 1.5115e-04\n",
            "Epoch 97/100\n",
            "25/25 [==============================] - 0s 17ms/step - loss: 0.0017 - val_loss: 1.4669e-04\n",
            "Epoch 98/100\n",
            "25/25 [==============================] - 0s 17ms/step - loss: 0.0021 - val_loss: 2.5562e-04\n",
            "Epoch 99/100\n",
            "25/25 [==============================] - 1s 27ms/step - loss: 0.0017 - val_loss: 1.5576e-04\n",
            "Epoch 100/100\n",
            "25/25 [==============================] - 1s 31ms/step - loss: 0.0018 - val_loss: 1.4995e-04\n"
          ]
        },
        {
          "output_type": "execute_result",
          "data": {
            "text/plain": [
              "<keras.callbacks.History at 0x7f7c3659cc10>"
            ]
          },
          "metadata": {},
          "execution_count": 27
        }
      ]
    },
    {
      "cell_type": "code",
      "source": [
        "y_hat_tr=model.predict(X_train)\n",
        "y_hat_ts=model.predict(X_test)"
      ],
      "metadata": {
        "colab": {
          "base_uri": "https://localhost:8080/"
        },
        "id": "5k68JC4R_SJJ",
        "outputId": "98c91904-be01-4833-aa7d-6c85466f202c"
      },
      "execution_count": 28,
      "outputs": [
        {
          "output_type": "stream",
          "name": "stdout",
          "text": [
            "25/25 [==============================] - 2s 14ms/step\n",
            "9/9 [==============================] - 0s 13ms/step\n"
          ]
        }
      ]
    },
    {
      "cell_type": "markdown",
      "source": [
        "### Projecting predicted values back to their original form :"
      ],
      "metadata": {
        "id": "kUuuQXLM_G_d"
      }
    },
    {
      "cell_type": "code",
      "source": [
        "y_hat_tr=scaler.inverse_transform(y_hat_tr)\n",
        "y_hat_ts=scaler.inverse_transform(y_hat_ts)"
      ],
      "metadata": {
        "id": "_58bonJJ8bVt"
      },
      "execution_count": 29,
      "outputs": []
    },
    {
      "cell_type": "code",
      "source": [
        "y_hat_ts"
      ],
      "metadata": {
        "colab": {
          "base_uri": "https://localhost:8080/"
        },
        "id": "uUZ3EnNl_sSy",
        "outputId": "83f259d4-20a2-4d18-847e-dffab49f2ab7"
      },
      "execution_count": 30,
      "outputs": [
        {
          "output_type": "execute_result",
          "data": {
            "text/plain": [
              "array([[151.27063],\n",
              "       [150.91447],\n",
              "       [150.29462],\n",
              "       [149.93936],\n",
              "       [149.88968],\n",
              "       [150.15628],\n",
              "       [150.89627],\n",
              "       [152.41393],\n",
              "       [154.57018],\n",
              "       [156.79604],\n",
              "       [158.65927],\n",
              "       [160.02046],\n",
              "       [160.14212],\n",
              "       [159.89752],\n",
              "       [160.37827],\n",
              "       [161.33372],\n",
              "       [162.22649],\n",
              "       [162.5933 ],\n",
              "       [163.04309],\n",
              "       [164.44464],\n",
              "       [166.90457],\n",
              "       [169.52562],\n",
              "       [172.38277],\n",
              "       [174.38211],\n",
              "       [175.16379],\n",
              "       [175.84465],\n",
              "       [175.50554],\n",
              "       [174.34447],\n",
              "       [172.78671],\n",
              "       [171.85371],\n",
              "       [172.01605],\n",
              "       [172.95677],\n",
              "       [174.74344],\n",
              "       [176.57556],\n",
              "       [177.99817],\n",
              "       [178.69228],\n",
              "       [178.7075 ],\n",
              "       [179.02802],\n",
              "       [179.27225],\n",
              "       [178.62389],\n",
              "       [177.01968],\n",
              "       [175.19794],\n",
              "       [173.70535],\n",
              "       [173.17528],\n",
              "       [173.44858],\n",
              "       [173.59596],\n",
              "       [173.61859],\n",
              "       [173.081  ],\n",
              "       [171.7087 ],\n",
              "       [169.79672],\n",
              "       [167.63902],\n",
              "       [165.62248],\n",
              "       [163.80179],\n",
              "       [162.36404],\n",
              "       [161.32104],\n",
              "       [162.21094],\n",
              "       [164.9632 ],\n",
              "       [168.27568],\n",
              "       [171.28586],\n",
              "       [173.0209 ],\n",
              "       [173.48485],\n",
              "       [173.05124],\n",
              "       [172.72935],\n",
              "       [172.9256 ],\n",
              "       [172.84119],\n",
              "       [171.98297],\n",
              "       [170.83235],\n",
              "       [170.40913],\n",
              "       [170.62988],\n",
              "       [170.63255],\n",
              "       [170.14578],\n",
              "       [168.99997],\n",
              "       [167.03787],\n",
              "       [165.30093],\n",
              "       [164.44452],\n",
              "       [164.35092],\n",
              "       [164.38167],\n",
              "       [164.82176],\n",
              "       [165.40947],\n",
              "       [165.47206],\n",
              "       [164.53386],\n",
              "       [162.8286 ],\n",
              "       [161.77925],\n",
              "       [160.88556],\n",
              "       [159.58253],\n",
              "       [157.58914],\n",
              "       [156.0925 ],\n",
              "       [155.94026],\n",
              "       [156.85966],\n",
              "       [158.64725],\n",
              "       [160.80496],\n",
              "       [163.21924],\n",
              "       [165.56967],\n",
              "       [167.9979 ],\n",
              "       [170.19719],\n",
              "       [171.97781],\n",
              "       [173.70601],\n",
              "       [175.02289],\n",
              "       [175.36707],\n",
              "       [175.00542],\n",
              "       [175.02907],\n",
              "       [174.98378],\n",
              "       [174.37807],\n",
              "       [173.57217],\n",
              "       [172.58688],\n",
              "       [171.05438],\n",
              "       [169.71286],\n",
              "       [169.23686],\n",
              "       [168.68544],\n",
              "       [167.97025],\n",
              "       [167.59221],\n",
              "       [167.50551],\n",
              "       [167.43907],\n",
              "       [166.64833],\n",
              "       [165.58264],\n",
              "       [163.73111],\n",
              "       [161.59888],\n",
              "       [160.71922],\n",
              "       [160.1022 ],\n",
              "       [159.56876],\n",
              "       [159.34363],\n",
              "       [160.27435],\n",
              "       [160.56161],\n",
              "       [160.15756],\n",
              "       [158.70137],\n",
              "       [157.15337],\n",
              "       [154.87477],\n",
              "       [151.88951],\n",
              "       [149.58513],\n",
              "       [148.05902],\n",
              "       [147.68797],\n",
              "       [146.98698],\n",
              "       [145.44876],\n",
              "       [143.5999 ],\n",
              "       [142.63869],\n",
              "       [142.17981],\n",
              "       [141.98158],\n",
              "       [142.31168],\n",
              "       [143.68813],\n",
              "       [145.45108],\n",
              "       [147.00186],\n",
              "       [148.40338],\n",
              "       [148.74677],\n",
              "       [148.35168],\n",
              "       [148.01329],\n",
              "       [147.82062],\n",
              "       [147.06194],\n",
              "       [145.25781],\n",
              "       [142.3996 ],\n",
              "       [139.51057],\n",
              "       [137.56955],\n",
              "       [135.96861],\n",
              "       [134.84395],\n",
              "       [134.70964],\n",
              "       [135.19304],\n",
              "       [136.22392],\n",
              "       [137.81882],\n",
              "       [139.49544],\n",
              "       [140.31522],\n",
              "       [140.53833],\n",
              "       [140.11653],\n",
              "       [139.64282],\n",
              "       [139.65979],\n",
              "       [140.23723],\n",
              "       [141.51048],\n",
              "       [143.13133],\n",
              "       [144.37439],\n",
              "       [145.21616],\n",
              "       [145.67322],\n",
              "       [146.2496 ],\n",
              "       [147.1475 ],\n",
              "       [147.73521],\n",
              "       [148.46364],\n",
              "       [149.5466 ],\n",
              "       [151.03072],\n",
              "       [152.37044],\n",
              "       [153.17206],\n",
              "       [153.30211],\n",
              "       [153.7254 ],\n",
              "       [154.52657],\n",
              "       [156.14641],\n",
              "       [157.9442 ],\n",
              "       [159.23639],\n",
              "       [160.78517],\n",
              "       [162.35658],\n",
              "       [163.58556],\n",
              "       [164.30225],\n",
              "       [164.60951],\n",
              "       [165.29568],\n",
              "       [166.13997],\n",
              "       [167.43271],\n",
              "       [169.00426],\n",
              "       [170.43863],\n",
              "       [171.72879],\n",
              "       [172.68423],\n",
              "       [172.88243],\n",
              "       [171.98138],\n",
              "       [170.53503],\n",
              "       [169.18831],\n",
              "       [168.60796],\n",
              "       [167.74069],\n",
              "       [166.35367],\n",
              "       [164.52547],\n",
              "       [162.52663],\n",
              "       [160.89893],\n",
              "       [159.5184 ],\n",
              "       [158.27226],\n",
              "       [157.45221],\n",
              "       [156.82187],\n",
              "       [156.72081],\n",
              "       [157.80699],\n",
              "       [158.16377],\n",
              "       [157.85905],\n",
              "       [156.8327 ],\n",
              "       [155.30412],\n",
              "       [154.27429],\n",
              "       [154.1914 ],\n",
              "       [154.29799],\n",
              "       [154.21318],\n",
              "       [153.65639],\n",
              "       [152.91771],\n",
              "       [152.38184],\n",
              "       [151.8547 ],\n",
              "       [150.38763],\n",
              "       [147.87671],\n",
              "       [145.70454],\n",
              "       [144.77803],\n",
              "       [144.89272],\n",
              "       [145.40164],\n",
              "       [145.22728],\n",
              "       [144.51149],\n",
              "       [143.43173],\n",
              "       [142.23814],\n",
              "       [141.7788 ],\n",
              "       [141.37128],\n",
              "       [141.40724],\n",
              "       [141.9424 ],\n",
              "       [142.69933],\n",
              "       [143.34851],\n",
              "       [144.27347],\n",
              "       [145.58461],\n",
              "       [147.32205],\n",
              "       [148.65944],\n",
              "       [148.79881],\n",
              "       [149.54782],\n",
              "       [150.59235],\n",
              "       [151.21638],\n",
              "       [150.632  ],\n",
              "       [148.51634],\n",
              "       [145.77182],\n",
              "       [143.34999],\n",
              "       [141.73003],\n",
              "       [140.30783],\n",
              "       [140.60347],\n",
              "       [142.52492],\n",
              "       [144.88457],\n",
              "       [147.1238 ],\n",
              "       [148.67747],\n",
              "       [149.73177],\n",
              "       [150.44283],\n",
              "       [150.4267 ],\n",
              "       [150.20688],\n",
              "       [150.13278],\n",
              "       [149.8298 ],\n",
              "       [148.86539],\n",
              "       [147.21332],\n",
              "       [146.3391 ],\n",
              "       [146.37459],\n",
              "       [146.8822 ],\n",
              "       [147.3498 ],\n",
              "       [147.14264],\n",
              "       [146.20578],\n",
              "       [145.20879],\n",
              "       [144.38528],\n",
              "       [144.11229],\n",
              "       [144.3841 ],\n",
              "       [144.62006]], dtype=float32)"
            ]
          },
          "metadata": {},
          "execution_count": 30
        }
      ]
    },
    {
      "cell_type": "code",
      "source": [
        "y_hat_tr.shape"
      ],
      "metadata": {
        "colab": {
          "base_uri": "https://localhost:8080/"
        },
        "id": "wou_A2bTC9a1",
        "outputId": "cfbf45a8-cc9e-4823-cee5-72e75afb1d37"
      },
      "execution_count": 31,
      "outputs": [
        {
          "output_type": "execute_result",
          "data": {
            "text/plain": [
              "(780, 1)"
            ]
          },
          "metadata": {},
          "execution_count": 31
        }
      ]
    },
    {
      "cell_type": "code",
      "source": [
        "mean_squared_error(y_train,y_hat_tr)**.5"
      ],
      "metadata": {
        "colab": {
          "base_uri": "https://localhost:8080/"
        },
        "id": "ZGBtYAVI_vck",
        "outputId": "6320d8fd-48af-4fd4-afab-11701f32ca32"
      },
      "execution_count": 32,
      "outputs": [
        {
          "output_type": "execute_result",
          "data": {
            "text/plain": [
              "224.7572880446788"
            ]
          },
          "metadata": {},
          "execution_count": 32
        }
      ]
    },
    {
      "cell_type": "code",
      "source": [
        "mean_squared_error(y_test,y_hat_ts)**.5"
      ],
      "metadata": {
        "colab": {
          "base_uri": "https://localhost:8080/"
        },
        "id": "JKS5TUW1AaXa",
        "outputId": "0ab0271b-1018-4170-b91c-b481b7973e87"
      },
      "execution_count": 33,
      "outputs": [
        {
          "output_type": "execute_result",
          "data": {
            "text/plain": [
              "157.93829841382154"
            ]
          },
          "metadata": {},
          "execution_count": 33
        }
      ]
    },
    {
      "cell_type": "markdown",
      "source": [
        "## Plotting predicted values for the forecast :"
      ],
      "metadata": {
        "id": "36AZPWyvBDDo"
      }
    },
    {
      "cell_type": "code",
      "source": [
        "df1.shape"
      ],
      "metadata": {
        "colab": {
          "base_uri": "https://localhost:8080/"
        },
        "id": "ID88CLVWW6B_",
        "outputId": "b953bb23-04d1-4d75-c398-1d90c2c2284a"
      },
      "execution_count": 34,
      "outputs": [
        {
          "output_type": "execute_result",
          "data": {
            "text/plain": [
              "(1259,)"
            ]
          },
          "metadata": {},
          "execution_count": 34
        }
      ]
    },
    {
      "cell_type": "code",
      "source": [
        "df1.shape[0]"
      ],
      "metadata": {
        "colab": {
          "base_uri": "https://localhost:8080/"
        },
        "id": "cEFm7hEEhN-l",
        "outputId": "da52c92e-1a97-42a4-f1bb-ac92d97ed456"
      },
      "execution_count": 35,
      "outputs": [
        {
          "output_type": "execute_result",
          "data": {
            "text/plain": [
              "1259"
            ]
          },
          "metadata": {},
          "execution_count": 35
        }
      ]
    },
    {
      "cell_type": "code",
      "source": [
        "look_back=100\n",
        "trainPredictPlot = np.zeros((df1.shape[0],1))\n",
        "trainPredictPlot[look_back:len(y_hat_tr)+look_back, :] = y_hat_tr\n",
        "# Removing discontinuities in the train plot\n",
        "trainPredictPlot[np.where(trainPredictPlot ==0)[0]] = np.nan\n",
        "\n",
        "\n",
        "testPredictPlot = np.zeros((df1.shape[0],1))\n",
        "testPredictPlot[len(y_hat_tr)+(look_back*2)+1:len(df1)-1, :] = y_hat_ts\n",
        "# Removing discontinuities in the test plot\n",
        "testPredictPlot[np.where(testPredictPlot ==0)[0]] = np.nan\n",
        "\n",
        "\n",
        "# plot baseline and predictions\n",
        "plt.plot(np.array(df1).reshape(-1,1))\n",
        "plt.plot(trainPredictPlot)\n",
        "plt.plot(testPredictPlot)\n",
        "plt.show()"
      ],
      "metadata": {
        "colab": {
          "base_uri": "https://localhost:8080/",
          "height": 265
        },
        "id": "1eRIQeUSDE_S",
        "outputId": "5935b0f5-0a2f-45cc-fdd9-c4f83f899849"
      },
      "execution_count": 36,
      "outputs": [
        {
          "output_type": "display_data",
          "data": {
            "text/plain": [
              "<Figure size 432x288 with 1 Axes>"
            ],
            "image/png": "[encoded data removed]"
          },
          "metadata": {
            "needs_background": "light"
          }
        }
      ]
    },
    {
      "cell_type": "markdown",
      "source": [
        "# Predicting the next 30 days :"
      ],
      "metadata": {
        "id": "uLkxLzS4qII_"
      }
    },
    {
      "cell_type": "code",
      "source": [
        "x_input=test_data[278:].reshape(1,-1)\n",
        "x_input.shape"
      ],
      "metadata": {
        "colab": {
          "base_uri": "https://localhost:8080/"
        },
        "id": "aVYDxCXQoI4n",
        "outputId": "61f920fe-2d5e-432e-98af-6d12e83daeac"
      },
      "execution_count": 37,
      "outputs": [
        {
          "output_type": "execute_result",
          "data": {
            "text/plain": [
              "(1, 100)"
            ]
          },
          "metadata": {},
          "execution_count": 37
        }
      ]
    },
    {
      "cell_type": "code",
      "source": [
        "temp_input=list(x_input)\n",
        "temp_input=temp_input[0].tolist()"
      ],
      "metadata": {
        "id": "d5jpH3XLoI6l"
      },
      "execution_count": 38,
      "outputs": []
    },
    {
      "cell_type": "code",
      "source": [
        "lst_output=[]\n",
        "n_steps=100\n",
        "i=0\n",
        "while(i<30):\n",
        "    \n",
        "    if(len(temp_input)>100):\n",
        "        \n",
        "        x_input=np.array(temp_input[1:])\n",
        "        print(\"{} day input {}\".format(i,x_input))\n",
        "        x_input=x_input.reshape(1,-1)\n",
        "        x_input = x_input.reshape((1, n_steps, 1))\n",
        "       \n",
        "        yhat = model.predict(x_input, verbose=0)\n",
        "        print(\"{} day output {}\".format(i,yhat))\n",
        "        temp_input.extend(yhat[0].tolist())\n",
        "        temp_input=temp_input[1:]\n",
        "        \n",
        "        lst_output.extend(yhat.tolist())\n",
        "        i=i+1\n",
        "    else:\n",
        "        x_input = x_input.reshape((1, n_steps,1))\n",
        "        yhat = model.predict(x_input, verbose=0)\n",
        "        print(yhat[0])\n",
        "        temp_input.extend(yhat[0].tolist())\n",
        "        print(len(temp_input))\n",
        "        lst_output.extend(yhat.tolist())\n",
        "        i=i+1\n",
        "    \n",
        "\n",
        "print(lst_output)"
      ],
      "metadata": {
        "colab": {
          "base_uri": "https://localhost:8080/"
        },
        "id": "1i3TejICkCcn",
        "outputId": "33f9a8a0-470b-47b7-c583-e59ea836a18c"
      },
      "execution_count": 39,
      "outputs": [
        {
          "output_type": "stream",
          "name": "stdout",
          "text": [
            "[0.08822204]\n",
            "101\n",
            "1 day input [0.13943644 0.13693175 0.1331747  0.14850344 0.14770194 0.14654978\n",
            " 0.14534753 0.14547276 0.15629305 0.15441453 0.16345648 0.1661866\n",
            " 0.16578585 0.16959299 0.16859111 0.16200376 0.15211021 0.15125861\n",
            " 0.15201002 0.15827176 0.14221666 0.13660614 0.13041954 0.1261866\n",
            " 0.12804008 0.12265498 0.11944897 0.12303068 0.11927364 0.1265623\n",
            " 0.14174076 0.11772073 0.12140263 0.11403882 0.10985598 0.11932373\n",
            " 0.1253851  0.11742016 0.11496556 0.10917971 0.11003131 0.11251096\n",
            " 0.10770194 0.08926738 0.07854728 0.08919224 0.09833438 0.09908579\n",
            " 0.09665623 0.08328115 0.0841077  0.08050094 0.07889793 0.09054477\n",
            " 0.07899812 0.08909205 0.09244834 0.09272386 0.09154665 0.10126487\n",
            " 0.10672511 0.11396368 0.10647464 0.09507827 0.12247965 0.11646838\n",
            " 0.10973075 0.09565435 0.08025047 0.07899812 0.08035066 0.08180338\n",
            " 0.07020664 0.10026299 0.10735128 0.10379461 0.10820288 0.10507201\n",
            " 0.10990607 0.11133375 0.10311835 0.10855354 0.11078272 0.10336882\n",
            " 0.09362555 0.08598622 0.10316844 0.10386976 0.10261741 0.09966187\n",
            " 0.0903444  0.08541014 0.08969317 0.08846587 0.09430182 0.09675642\n",
            " 0.0910958  0.07428929 0.06930495 0.08822204]\n",
            "1 day output [[0.08564417]]\n",
            "2 day input [0.13693175 0.1331747  0.14850344 0.14770194 0.14654978 0.14534753\n",
            " 0.14547276 0.15629305 0.15441453 0.16345648 0.1661866  0.16578585\n",
            " 0.16959299 0.16859111 0.16200376 0.15211021 0.15125861 0.15201002\n",
            " 0.15827176 0.14221666 0.13660614 0.13041954 0.1261866  0.12804008\n",
            " 0.12265498 0.11944897 0.12303068 0.11927364 0.1265623  0.14174076\n",
            " 0.11772073 0.12140263 0.11403882 0.10985598 0.11932373 0.1253851\n",
            " 0.11742016 0.11496556 0.10917971 0.11003131 0.11251096 0.10770194\n",
            " 0.08926738 0.07854728 0.08919224 0.09833438 0.09908579 0.09665623\n",
            " 0.08328115 0.0841077  0.08050094 0.07889793 0.09054477 0.07899812\n",
            " 0.08909205 0.09244834 0.09272386 0.09154665 0.10126487 0.10672511\n",
            " 0.11396368 0.10647464 0.09507827 0.12247965 0.11646838 0.10973075\n",
            " 0.09565435 0.08025047 0.07899812 0.08035066 0.08180338 0.07020664\n",
            " 0.10026299 0.10735128 0.10379461 0.10820288 0.10507201 0.10990607\n",
            " 0.11133375 0.10311835 0.10855354 0.11078272 0.10336882 0.09362555\n",
            " 0.08598622 0.10316844 0.10386976 0.10261741 0.09966187 0.0903444\n",
            " 0.08541014 0.08969317 0.08846587 0.09430182 0.09675642 0.0910958\n",
            " 0.07428929 0.06930495 0.08822204 0.08564417]\n",
            "2 day output [[0.08493036]]\n",
            "3 day input [0.1331747  0.14850344 0.14770194 0.14654978 0.14534753 0.14547276\n",
            " 0.15629305 0.15441453 0.16345648 0.1661866  0.16578585 0.16959299\n",
            " 0.16859111 0.16200376 0.15211021 0.15125861 0.15201002 0.15827176\n",
            " 0.14221666 0.13660614 0.13041954 0.1261866  0.12804008 0.12265498\n",
            " 0.11944897 0.12303068 0.11927364 0.1265623  0.14174076 0.11772073\n",
            " 0.12140263 0.11403882 0.10985598 0.11932373 0.1253851  0.11742016\n",
            " 0.11496556 0.10917971 0.11003131 0.11251096 0.10770194 0.08926738\n",
            " 0.07854728 0.08919224 0.09833438 0.09908579 0.09665623 0.08328115\n",
            " 0.0841077  0.08050094 0.07889793 0.09054477 0.07899812 0.08909205\n",
            " 0.09244834 0.09272386 0.09154665 0.10126487 0.10672511 0.11396368\n",
            " 0.10647464 0.09507827 0.12247965 0.11646838 0.10973075 0.09565435\n",
            " 0.08025047 0.07899812 0.08035066 0.08180338 0.07020664 0.10026299\n",
            " 0.10735128 0.10379461 0.10820288 0.10507201 0.10990607 0.11133375\n",
            " 0.10311835 0.10855354 0.11078272 0.10336882 0.09362555 0.08598622\n",
            " 0.10316844 0.10386976 0.10261741 0.09966187 0.0903444  0.08541014\n",
            " 0.08969317 0.08846587 0.09430182 0.09675642 0.0910958  0.07428929\n",
            " 0.06930495 0.08822204 0.08564417 0.08493036]\n",
            "3 day output [[0.08524691]]\n",
            "4 day input [0.14850344 0.14770194 0.14654978 0.14534753 0.14547276 0.15629305\n",
            " 0.15441453 0.16345648 0.1661866  0.16578585 0.16959299 0.16859111\n",
            " 0.16200376 0.15211021 0.15125861 0.15201002 0.15827176 0.14221666\n",
            " 0.13660614 0.13041954 0.1261866  0.12804008 0.12265498 0.11944897\n",
            " 0.12303068 0.11927364 0.1265623  0.14174076 0.11772073 0.12140263\n",
            " 0.11403882 0.10985598 0.11932373 0.1253851  0.11742016 0.11496556\n",
            " 0.10917971 0.11003131 0.11251096 0.10770194 0.08926738 0.07854728\n",
            " 0.08919224 0.09833438 0.09908579 0.09665623 0.08328115 0.0841077\n",
            " 0.08050094 0.07889793 0.09054477 0.07899812 0.08909205 0.09244834\n",
            " 0.09272386 0.09154665 0.10126487 0.10672511 0.11396368 0.10647464\n",
            " 0.09507827 0.12247965 0.11646838 0.10973075 0.09565435 0.08025047\n",
            " 0.07899812 0.08035066 0.08180338 0.07020664 0.10026299 0.10735128\n",
            " 0.10379461 0.10820288 0.10507201 0.10990607 0.11133375 0.10311835\n",
            " 0.10855354 0.11078272 0.10336882 0.09362555 0.08598622 0.10316844\n",
            " 0.10386976 0.10261741 0.09966187 0.0903444  0.08541014 0.08969317\n",
            " 0.08846587 0.09430182 0.09675642 0.0910958  0.07428929 0.06930495\n",
            " 0.08822204 0.08564417 0.08493036 0.08524691]\n",
            "4 day output [[0.08596519]]\n",
            "5 day input [0.14770194 0.14654978 0.14534753 0.14547276 0.15629305 0.15441453\n",
            " 0.16345648 0.1661866  0.16578585 0.16959299 0.16859111 0.16200376\n",
            " 0.15211021 0.15125861 0.15201002 0.15827176 0.14221666 0.13660614\n",
            " 0.13041954 0.1261866  0.12804008 0.12265498 0.11944897 0.12303068\n",
            " 0.11927364 0.1265623  0.14174076 0.11772073 0.12140263 0.11403882\n",
            " 0.10985598 0.11932373 0.1253851  0.11742016 0.11496556 0.10917971\n",
            " 0.11003131 0.11251096 0.10770194 0.08926738 0.07854728 0.08919224\n",
            " 0.09833438 0.09908579 0.09665623 0.08328115 0.0841077  0.08050094\n",
            " 0.07889793 0.09054477 0.07899812 0.08909205 0.09244834 0.09272386\n",
            " 0.09154665 0.10126487 0.10672511 0.11396368 0.10647464 0.09507827\n",
            " 0.12247965 0.11646838 0.10973075 0.09565435 0.08025047 0.07899812\n",
            " 0.08035066 0.08180338 0.07020664 0.10026299 0.10735128 0.10379461\n",
            " 0.10820288 0.10507201 0.10990607 0.11133375 0.10311835 0.10855354\n",
            " 0.11078272 0.10336882 0.09362555 0.08598622 0.10316844 0.10386976\n",
            " 0.10261741 0.09966187 0.0903444  0.08541014 0.08969317 0.08846587\n",
            " 0.09430182 0.09675642 0.0910958  0.07428929 0.06930495 0.08822204\n",
            " 0.08564417 0.08493036 0.08524691 0.08596519]\n",
            "5 day output [[0.08676837]]\n",
            "6 day input [0.14654978 0.14534753 0.14547276 0.15629305 0.15441453 0.16345648\n",
            " 0.1661866  0.16578585 0.16959299 0.16859111 0.16200376 0.15211021\n",
            " 0.15125861 0.15201002 0.15827176 0.14221666 0.13660614 0.13041954\n",
            " 0.1261866  0.12804008 0.12265498 0.11944897 0.12303068 0.11927364\n",
            " 0.1265623  0.14174076 0.11772073 0.12140263 0.11403882 0.10985598\n",
            " 0.11932373 0.1253851  0.11742016 0.11496556 0.10917971 0.11003131\n",
            " 0.11251096 0.10770194 0.08926738 0.07854728 0.08919224 0.09833438\n",
            " 0.09908579 0.09665623 0.08328115 0.0841077  0.08050094 0.07889793\n",
            " 0.09054477 0.07899812 0.08909205 0.09244834 0.09272386 0.09154665\n",
            " 0.10126487 0.10672511 0.11396368 0.10647464 0.09507827 0.12247965\n",
            " 0.11646838 0.10973075 0.09565435 0.08025047 0.07899812 0.08035066\n",
            " 0.08180338 0.07020664 0.10026299 0.10735128 0.10379461 0.10820288\n",
            " 0.10507201 0.10990607 0.11133375 0.10311835 0.10855354 0.11078272\n",
            " 0.10336882 0.09362555 0.08598622 0.10316844 0.10386976 0.10261741\n",
            " 0.09966187 0.0903444  0.08541014 0.08969317 0.08846587 0.09430182\n",
            " 0.09675642 0.0910958  0.07428929 0.06930495 0.08822204 0.08564417\n",
            " 0.08493036 0.08524691 0.08596519 0.08676837]\n",
            "6 day output [[0.08753309]]\n",
            "7 day input [0.14534753 0.14547276 0.15629305 0.15441453 0.16345648 0.1661866\n",
            " 0.16578585 0.16959299 0.16859111 0.16200376 0.15211021 0.15125861\n",
            " 0.15201002 0.15827176 0.14221666 0.13660614 0.13041954 0.1261866\n",
            " 0.12804008 0.12265498 0.11944897 0.12303068 0.11927364 0.1265623\n",
            " 0.14174076 0.11772073 0.12140263 0.11403882 0.10985598 0.11932373\n",
            " 0.1253851  0.11742016 0.11496556 0.10917971 0.11003131 0.11251096\n",
            " 0.10770194 0.08926738 0.07854728 0.08919224 0.09833438 0.09908579\n",
            " 0.09665623 0.08328115 0.0841077  0.08050094 0.07889793 0.09054477\n",
            " 0.07899812 0.08909205 0.09244834 0.09272386 0.09154665 0.10126487\n",
            " 0.10672511 0.11396368 0.10647464 0.09507827 0.12247965 0.11646838\n",
            " 0.10973075 0.09565435 0.08025047 0.07899812 0.08035066 0.08180338\n",
            " 0.07020664 0.10026299 0.10735128 0.10379461 0.10820288 0.10507201\n",
            " 0.10990607 0.11133375 0.10311835 0.10855354 0.11078272 0.10336882\n",
            " 0.09362555 0.08598622 0.10316844 0.10386976 0.10261741 0.09966187\n",
            " 0.0903444  0.08541014 0.08969317 0.08846587 0.09430182 0.09675642\n",
            " 0.0910958  0.07428929 0.06930495 0.08822204 0.08564417 0.08493036\n",
            " 0.08524691 0.08596519 0.08676837 0.08753309]\n",
            "7 day output [[0.08822469]]\n",
            "8 day input [0.14547276 0.15629305 0.15441453 0.16345648 0.1661866  0.16578585\n",
            " 0.16959299 0.16859111 0.16200376 0.15211021 0.15125861 0.15201002\n",
            " 0.15827176 0.14221666 0.13660614 0.13041954 0.1261866  0.12804008\n",
            " 0.12265498 0.11944897 0.12303068 0.11927364 0.1265623  0.14174076\n",
            " 0.11772073 0.12140263 0.11403882 0.10985598 0.11932373 0.1253851\n",
            " 0.11742016 0.11496556 0.10917971 0.11003131 0.11251096 0.10770194\n",
            " 0.08926738 0.07854728 0.08919224 0.09833438 0.09908579 0.09665623\n",
            " 0.08328115 0.0841077  0.08050094 0.07889793 0.09054477 0.07899812\n",
            " 0.08909205 0.09244834 0.09272386 0.09154665 0.10126487 0.10672511\n",
            " 0.11396368 0.10647464 0.09507827 0.12247965 0.11646838 0.10973075\n",
            " 0.09565435 0.08025047 0.07899812 0.08035066 0.08180338 0.07020664\n",
            " 0.10026299 0.10735128 0.10379461 0.10820288 0.10507201 0.10990607\n",
            " 0.11133375 0.10311835 0.10855354 0.11078272 0.10336882 0.09362555\n",
            " 0.08598622 0.10316844 0.10386976 0.10261741 0.09966187 0.0903444\n",
            " 0.08541014 0.08969317 0.08846587 0.09430182 0.09675642 0.0910958\n",
            " 0.07428929 0.06930495 0.08822204 0.08564417 0.08493036 0.08524691\n",
            " 0.08596519 0.08676837 0.08753309 0.08822469]\n",
            "8 day output [[0.08884171]]\n",
            "9 day input [0.15629305 0.15441453 0.16345648 0.1661866  0.16578585 0.16959299\n",
            " 0.16859111 0.16200376 0.15211021 0.15125861 0.15201002 0.15827176\n",
            " 0.14221666 0.13660614 0.13041954 0.1261866  0.12804008 0.12265498\n",
            " 0.11944897 0.12303068 0.11927364 0.1265623  0.14174076 0.11772073\n",
            " 0.12140263 0.11403882 0.10985598 0.11932373 0.1253851  0.11742016\n",
            " 0.11496556 0.10917971 0.11003131 0.11251096 0.10770194 0.08926738\n",
            " 0.07854728 0.08919224 0.09833438 0.09908579 0.09665623 0.08328115\n",
            " 0.0841077  0.08050094 0.07889793 0.09054477 0.07899812 0.08909205\n",
            " 0.09244834 0.09272386 0.09154665 0.10126487 0.10672511 0.11396368\n",
            " 0.10647464 0.09507827 0.12247965 0.11646838 0.10973075 0.09565435\n",
            " 0.08025047 0.07899812 0.08035066 0.08180338 0.07020664 0.10026299\n",
            " 0.10735128 0.10379461 0.10820288 0.10507201 0.10990607 0.11133375\n",
            " 0.10311835 0.10855354 0.11078272 0.10336882 0.09362555 0.08598622\n",
            " 0.10316844 0.10386976 0.10261741 0.09966187 0.0903444  0.08541014\n",
            " 0.08969317 0.08846587 0.09430182 0.09675642 0.0910958  0.07428929\n",
            " 0.06930495 0.08822204 0.08564417 0.08493036 0.08524691 0.08596519\n",
            " 0.08676837 0.08753309 0.08822469 0.08884171]\n",
            "9 day output [[0.08939348]]\n",
            "10 day input [0.15441453 0.16345648 0.1661866  0.16578585 0.16959299 0.16859111\n",
            " 0.16200376 0.15211021 0.15125861 0.15201002 0.15827176 0.14221666\n",
            " 0.13660614 0.13041954 0.1261866  0.12804008 0.12265498 0.11944897\n",
            " 0.12303068 0.11927364 0.1265623  0.14174076 0.11772073 0.12140263\n",
            " 0.11403882 0.10985598 0.11932373 0.1253851  0.11742016 0.11496556\n",
            " 0.10917971 0.11003131 0.11251096 0.10770194 0.08926738 0.07854728\n",
            " 0.08919224 0.09833438 0.09908579 0.09665623 0.08328115 0.0841077\n",
            " 0.08050094 0.07889793 0.09054477 0.07899812 0.08909205 0.09244834\n",
            " 0.09272386 0.09154665 0.10126487 0.10672511 0.11396368 0.10647464\n",
            " 0.09507827 0.12247965 0.11646838 0.10973075 0.09565435 0.08025047\n",
            " 0.07899812 0.08035066 0.08180338 0.07020664 0.10026299 0.10735128\n",
            " 0.10379461 0.10820288 0.10507201 0.10990607 0.11133375 0.10311835\n",
            " 0.10855354 0.11078272 0.10336882 0.09362555 0.08598622 0.10316844\n",
            " 0.10386976 0.10261741 0.09966187 0.0903444  0.08541014 0.08969317\n",
            " 0.08846587 0.09430182 0.09675642 0.0910958  0.07428929 0.06930495\n",
            " 0.08822204 0.08564417 0.08493036 0.08524691 0.08596519 0.08676837\n",
            " 0.08753309 0.08822469 0.08884171 0.08939348]\n",
            "10 day output [[0.08989269]]\n",
            "11 day input [0.16345648 0.1661866  0.16578585 0.16959299 0.16859111 0.16200376\n",
            " 0.15211021 0.15125861 0.15201002 0.15827176 0.14221666 0.13660614\n",
            " 0.13041954 0.1261866  0.12804008 0.12265498 0.11944897 0.12303068\n",
            " 0.11927364 0.1265623  0.14174076 0.11772073 0.12140263 0.11403882\n",
            " 0.10985598 0.11932373 0.1253851  0.11742016 0.11496556 0.10917971\n",
            " 0.11003131 0.11251096 0.10770194 0.08926738 0.07854728 0.08919224\n",
            " 0.09833438 0.09908579 0.09665623 0.08328115 0.0841077  0.08050094\n",
            " 0.07889793 0.09054477 0.07899812 0.08909205 0.09244834 0.09272386\n",
            " 0.09154665 0.10126487 0.10672511 0.11396368 0.10647464 0.09507827\n",
            " 0.12247965 0.11646838 0.10973075 0.09565435 0.08025047 0.07899812\n",
            " 0.08035066 0.08180338 0.07020664 0.10026299 0.10735128 0.10379461\n",
            " 0.10820288 0.10507201 0.10990607 0.11133375 0.10311835 0.10855354\n",
            " 0.11078272 0.10336882 0.09362555 0.08598622 0.10316844 0.10386976\n",
            " 0.10261741 0.09966187 0.0903444  0.08541014 0.08969317 0.08846587\n",
            " 0.09430182 0.09675642 0.0910958  0.07428929 0.06930495 0.08822204\n",
            " 0.08564417 0.08493036 0.08524691 0.08596519 0.08676837 0.08753309\n",
            " 0.08822469 0.08884171 0.08939348 0.08989269]\n",
            "11 day output [[0.09035298]]\n",
            "12 day input [0.1661866  0.16578585 0.16959299 0.16859111 0.16200376 0.15211021\n",
            " 0.15125861 0.15201002 0.15827176 0.14221666 0.13660614 0.13041954\n",
            " 0.1261866  0.12804008 0.12265498 0.11944897 0.12303068 0.11927364\n",
            " 0.1265623  0.14174076 0.11772073 0.12140263 0.11403882 0.10985598\n",
            " 0.11932373 0.1253851  0.11742016 0.11496556 0.10917971 0.11003131\n",
            " 0.11251096 0.10770194 0.08926738 0.07854728 0.08919224 0.09833438\n",
            " 0.09908579 0.09665623 0.08328115 0.0841077  0.08050094 0.07889793\n",
            " 0.09054477 0.07899812 0.08909205 0.09244834 0.09272386 0.09154665\n",
            " 0.10126487 0.10672511 0.11396368 0.10647464 0.09507827 0.12247965\n",
            " 0.11646838 0.10973075 0.09565435 0.08025047 0.07899812 0.08035066\n",
            " 0.08180338 0.07020664 0.10026299 0.10735128 0.10379461 0.10820288\n",
            " 0.10507201 0.10990607 0.11133375 0.10311835 0.10855354 0.11078272\n",
            " 0.10336882 0.09362555 0.08598622 0.10316844 0.10386976 0.10261741\n",
            " 0.09966187 0.0903444  0.08541014 0.08969317 0.08846587 0.09430182\n",
            " 0.09675642 0.0910958  0.07428929 0.06930495 0.08822204 0.08564417\n",
            " 0.08493036 0.08524691 0.08596519 0.08676837 0.08753309 0.08822469\n",
            " 0.08884171 0.08939348 0.08989269 0.09035298]\n",
            "12 day output [[0.0907879]]\n",
            "13 day input [0.16578585 0.16959299 0.16859111 0.16200376 0.15211021 0.15125861\n",
            " 0.15201002 0.15827176 0.14221666 0.13660614 0.13041954 0.1261866\n",
            " 0.12804008 0.12265498 0.11944897 0.12303068 0.11927364 0.1265623\n",
            " 0.14174076 0.11772073 0.12140263 0.11403882 0.10985598 0.11932373\n",
            " 0.1253851  0.11742016 0.11496556 0.10917971 0.11003131 0.11251096\n",
            " 0.10770194 0.08926738 0.07854728 0.08919224 0.09833438 0.09908579\n",
            " 0.09665623 0.08328115 0.0841077  0.08050094 0.07889793 0.09054477\n",
            " 0.07899812 0.08909205 0.09244834 0.09272386 0.09154665 0.10126487\n",
            " 0.10672511 0.11396368 0.10647464 0.09507827 0.12247965 0.11646838\n",
            " 0.10973075 0.09565435 0.08025047 0.07899812 0.08035066 0.08180338\n",
            " 0.07020664 0.10026299 0.10735128 0.10379461 0.10820288 0.10507201\n",
            " 0.10990607 0.11133375 0.10311835 0.10855354 0.11078272 0.10336882\n",
            " 0.09362555 0.08598622 0.10316844 0.10386976 0.10261741 0.09966187\n",
            " 0.0903444  0.08541014 0.08969317 0.08846587 0.09430182 0.09675642\n",
            " 0.0910958  0.07428929 0.06930495 0.08822204 0.08564417 0.08493036\n",
            " 0.08524691 0.08596519 0.08676837 0.08753309 0.08822469 0.08884171\n",
            " 0.08939348 0.08989269 0.09035298 0.0907879 ]\n",
            "13 day output [[0.09120981]]\n",
            "14 day input [0.16959299 0.16859111 0.16200376 0.15211021 0.15125861 0.15201002\n",
            " 0.15827176 0.14221666 0.13660614 0.13041954 0.1261866  0.12804008\n",
            " 0.12265498 0.11944897 0.12303068 0.11927364 0.1265623  0.14174076\n",
            " 0.11772073 0.12140263 0.11403882 0.10985598 0.11932373 0.1253851\n",
            " 0.11742016 0.11496556 0.10917971 0.11003131 0.11251096 0.10770194\n",
            " 0.08926738 0.07854728 0.08919224 0.09833438 0.09908579 0.09665623\n",
            " 0.08328115 0.0841077  0.08050094 0.07889793 0.09054477 0.07899812\n",
            " 0.08909205 0.09244834 0.09272386 0.09154665 0.10126487 0.10672511\n",
            " 0.11396368 0.10647464 0.09507827 0.12247965 0.11646838 0.10973075\n",
            " 0.09565435 0.08025047 0.07899812 0.08035066 0.08180338 0.07020664\n",
            " 0.10026299 0.10735128 0.10379461 0.10820288 0.10507201 0.10990607\n",
            " 0.11133375 0.10311835 0.10855354 0.11078272 0.10336882 0.09362555\n",
            " 0.08598622 0.10316844 0.10386976 0.10261741 0.09966187 0.0903444\n",
            " 0.08541014 0.08969317 0.08846587 0.09430182 0.09675642 0.0910958\n",
            " 0.07428929 0.06930495 0.08822204 0.08564417 0.08493036 0.08524691\n",
            " 0.08596519 0.08676837 0.08753309 0.08822469 0.08884171 0.08939348\n",
            " 0.08989269 0.09035298 0.0907879  0.09120981]\n",
            "14 day output [[0.09162916]]\n",
            "15 day input [0.16859111 0.16200376 0.15211021 0.15125861 0.15201002 0.15827176\n",
            " 0.14221666 0.13660614 0.13041954 0.1261866  0.12804008 0.12265498\n",
            " 0.11944897 0.12303068 0.11927364 0.1265623  0.14174076 0.11772073\n",
            " 0.12140263 0.11403882 0.10985598 0.11932373 0.1253851  0.11742016\n",
            " 0.11496556 0.10917971 0.11003131 0.11251096 0.10770194 0.08926738\n",
            " 0.07854728 0.08919224 0.09833438 0.09908579 0.09665623 0.08328115\n",
            " 0.0841077  0.08050094 0.07889793 0.09054477 0.07899812 0.08909205\n",
            " 0.09244834 0.09272386 0.09154665 0.10126487 0.10672511 0.11396368\n",
            " 0.10647464 0.09507827 0.12247965 0.11646838 0.10973075 0.09565435\n",
            " 0.08025047 0.07899812 0.08035066 0.08180338 0.07020664 0.10026299\n",
            " 0.10735128 0.10379461 0.10820288 0.10507201 0.10990607 0.11133375\n",
            " 0.10311835 0.10855354 0.11078272 0.10336882 0.09362555 0.08598622\n",
            " 0.10316844 0.10386976 0.10261741 0.09966187 0.0903444  0.08541014\n",
            " 0.08969317 0.08846587 0.09430182 0.09675642 0.0910958  0.07428929\n",
            " 0.06930495 0.08822204 0.08564417 0.08493036 0.08524691 0.08596519\n",
            " 0.08676837 0.08753309 0.08822469 0.08884171 0.08939348 0.08989269\n",
            " 0.09035298 0.0907879  0.09120981 0.09162916]\n",
            "15 day output [[0.09205383]]\n",
            "16 day input [0.16200376 0.15211021 0.15125861 0.15201002 0.15827176 0.14221666\n",
            " 0.13660614 0.13041954 0.1261866  0.12804008 0.12265498 0.11944897\n",
            " 0.12303068 0.11927364 0.1265623  0.14174076 0.11772073 0.12140263\n",
            " 0.11403882 0.10985598 0.11932373 0.1253851  0.11742016 0.11496556\n",
            " 0.10917971 0.11003131 0.11251096 0.10770194 0.08926738 0.07854728\n",
            " 0.08919224 0.09833438 0.09908579 0.09665623 0.08328115 0.0841077\n",
            " 0.08050094 0.07889793 0.09054477 0.07899812 0.08909205 0.09244834\n",
            " 0.09272386 0.09154665 0.10126487 0.10672511 0.11396368 0.10647464\n",
            " 0.09507827 0.12247965 0.11646838 0.10973075 0.09565435 0.08025047\n",
            " 0.07899812 0.08035066 0.08180338 0.07020664 0.10026299 0.10735128\n",
            " 0.10379461 0.10820288 0.10507201 0.10990607 0.11133375 0.10311835\n",
            " 0.10855354 0.11078272 0.10336882 0.09362555 0.08598622 0.10316844\n",
            " 0.10386976 0.10261741 0.09966187 0.0903444  0.08541014 0.08969317\n",
            " 0.08846587 0.09430182 0.09675642 0.0910958  0.07428929 0.06930495\n",
            " 0.08822204 0.08564417 0.08493036 0.08524691 0.08596519 0.08676837\n",
            " 0.08753309 0.08822469 0.08884171 0.08939348 0.08989269 0.09035298\n",
            " 0.0907879  0.09120981 0.09162916 0.09205383]\n",
            "16 day output [[0.09248914]]\n",
            "17 day input [0.15211021 0.15125861 0.15201002 0.15827176 0.14221666 0.13660614\n",
            " 0.13041954 0.1261866  0.12804008 0.12265498 0.11944897 0.12303068\n",
            " 0.11927364 0.1265623  0.14174076 0.11772073 0.12140263 0.11403882\n",
            " 0.10985598 0.11932373 0.1253851  0.11742016 0.11496556 0.10917971\n",
            " 0.11003131 0.11251096 0.10770194 0.08926738 0.07854728 0.08919224\n",
            " 0.09833438 0.09908579 0.09665623 0.08328115 0.0841077  0.08050094\n",
            " 0.07889793 0.09054477 0.07899812 0.08909205 0.09244834 0.09272386\n",
            " 0.09154665 0.10126487 0.10672511 0.11396368 0.10647464 0.09507827\n",
            " 0.12247965 0.11646838 0.10973075 0.09565435 0.08025047 0.07899812\n",
            " 0.08035066 0.08180338 0.07020664 0.10026299 0.10735128 0.10379461\n",
            " 0.10820288 0.10507201 0.10990607 0.11133375 0.10311835 0.10855354\n",
            " 0.11078272 0.10336882 0.09362555 0.08598622 0.10316844 0.10386976\n",
            " 0.10261741 0.09966187 0.0903444  0.08541014 0.08969317 0.08846587\n",
            " 0.09430182 0.09675642 0.0910958  0.07428929 0.06930495 0.08822204\n",
            " 0.08564417 0.08493036 0.08524691 0.08596519 0.08676837 0.08753309\n",
            " 0.08822469 0.08884171 0.08939348 0.08989269 0.09035298 0.0907879\n",
            " 0.09120981 0.09162916 0.09205383 0.09248914]\n",
            "17 day output [[0.09293774]]\n",
            "18 day input [0.15125861 0.15201002 0.15827176 0.14221666 0.13660614 0.13041954\n",
            " 0.1261866  0.12804008 0.12265498 0.11944897 0.12303068 0.11927364\n",
            " 0.1265623  0.14174076 0.11772073 0.12140263 0.11403882 0.10985598\n",
            " 0.11932373 0.1253851  0.11742016 0.11496556 0.10917971 0.11003131\n",
            " 0.11251096 0.10770194 0.08926738 0.07854728 0.08919224 0.09833438\n",
            " 0.09908579 0.09665623 0.08328115 0.0841077  0.08050094 0.07889793\n",
            " 0.09054477 0.07899812 0.08909205 0.09244834 0.09272386 0.09154665\n",
            " 0.10126487 0.10672511 0.11396368 0.10647464 0.09507827 0.12247965\n",
            " 0.11646838 0.10973075 0.09565435 0.08025047 0.07899812 0.08035066\n",
            " 0.08180338 0.07020664 0.10026299 0.10735128 0.10379461 0.10820288\n",
            " 0.10507201 0.10990607 0.11133375 0.10311835 0.10855354 0.11078272\n",
            " 0.10336882 0.09362555 0.08598622 0.10316844 0.10386976 0.10261741\n",
            " 0.09966187 0.0903444  0.08541014 0.08969317 0.08846587 0.09430182\n",
            " 0.09675642 0.0910958  0.07428929 0.06930495 0.08822204 0.08564417\n",
            " 0.08493036 0.08524691 0.08596519 0.08676837 0.08753309 0.08822469\n",
            " 0.08884171 0.08939348 0.08989269 0.09035298 0.0907879  0.09120981\n",
            " 0.09162916 0.09205383 0.09248914 0.09293774]\n",
            "18 day output [[0.09340008]]\n",
            "19 day input [0.15201002 0.15827176 0.14221666 0.13660614 0.13041954 0.1261866\n",
            " 0.12804008 0.12265498 0.11944897 0.12303068 0.11927364 0.1265623\n",
            " 0.14174076 0.11772073 0.12140263 0.11403882 0.10985598 0.11932373\n",
            " 0.1253851  0.11742016 0.11496556 0.10917971 0.11003131 0.11251096\n",
            " 0.10770194 0.08926738 0.07854728 0.08919224 0.09833438 0.09908579\n",
            " 0.09665623 0.08328115 0.0841077  0.08050094 0.07889793 0.09054477\n",
            " 0.07899812 0.08909205 0.09244834 0.09272386 0.09154665 0.10126487\n",
            " 0.10672511 0.11396368 0.10647464 0.09507827 0.12247965 0.11646838\n",
            " 0.10973075 0.09565435 0.08025047 0.07899812 0.08035066 0.08180338\n",
            " 0.07020664 0.10026299 0.10735128 0.10379461 0.10820288 0.10507201\n",
            " 0.10990607 0.11133375 0.10311835 0.10855354 0.11078272 0.10336882\n",
            " 0.09362555 0.08598622 0.10316844 0.10386976 0.10261741 0.09966187\n",
            " 0.0903444  0.08541014 0.08969317 0.08846587 0.09430182 0.09675642\n",
            " 0.0910958  0.07428929 0.06930495 0.08822204 0.08564417 0.08493036\n",
            " 0.08524691 0.08596519 0.08676837 0.08753309 0.08822469 0.08884171\n",
            " 0.08939348 0.08989269 0.09035298 0.0907879  0.09120981 0.09162916\n",
            " 0.09205383 0.09248914 0.09293774 0.09340008]\n",
            "19 day output [[0.09387474]]\n",
            "20 day input [0.15827176 0.14221666 0.13660614 0.13041954 0.1261866  0.12804008\n",
            " 0.12265498 0.11944897 0.12303068 0.11927364 0.1265623  0.14174076\n",
            " 0.11772073 0.12140263 0.11403882 0.10985598 0.11932373 0.1253851\n",
            " 0.11742016 0.11496556 0.10917971 0.11003131 0.11251096 0.10770194\n",
            " 0.08926738 0.07854728 0.08919224 0.09833438 0.09908579 0.09665623\n",
            " 0.08328115 0.0841077  0.08050094 0.07889793 0.09054477 0.07899812\n",
            " 0.08909205 0.09244834 0.09272386 0.09154665 0.10126487 0.10672511\n",
            " 0.11396368 0.10647464 0.09507827 0.12247965 0.11646838 0.10973075\n",
            " 0.09565435 0.08025047 0.07899812 0.08035066 0.08180338 0.07020664\n",
            " 0.10026299 0.10735128 0.10379461 0.10820288 0.10507201 0.10990607\n",
            " 0.11133375 0.10311835 0.10855354 0.11078272 0.10336882 0.09362555\n",
            " 0.08598622 0.10316844 0.10386976 0.10261741 0.09966187 0.0903444\n",
            " 0.08541014 0.08969317 0.08846587 0.09430182 0.09675642 0.0910958\n",
            " 0.07428929 0.06930495 0.08822204 0.08564417 0.08493036 0.08524691\n",
            " 0.08596519 0.08676837 0.08753309 0.08822469 0.08884171 0.08939348\n",
            " 0.08989269 0.09035298 0.0907879  0.09120981 0.09162916 0.09205383\n",
            " 0.09248914 0.09293774 0.09340008 0.09387474]\n",
            "20 day output [[0.09435919]]\n",
            "21 day input [0.14221666 0.13660614 0.13041954 0.1261866  0.12804008 0.12265498\n",
            " 0.11944897 0.12303068 0.11927364 0.1265623  0.14174076 0.11772073\n",
            " 0.12140263 0.11403882 0.10985598 0.11932373 0.1253851  0.11742016\n",
            " 0.11496556 0.10917971 0.11003131 0.11251096 0.10770194 0.08926738\n",
            " 0.07854728 0.08919224 0.09833438 0.09908579 0.09665623 0.08328115\n",
            " 0.0841077  0.08050094 0.07889793 0.09054477 0.07899812 0.08909205\n",
            " 0.09244834 0.09272386 0.09154665 0.10126487 0.10672511 0.11396368\n",
            " 0.10647464 0.09507827 0.12247965 0.11646838 0.10973075 0.09565435\n",
            " 0.08025047 0.07899812 0.08035066 0.08180338 0.07020664 0.10026299\n",
            " 0.10735128 0.10379461 0.10820288 0.10507201 0.10990607 0.11133375\n",
            " 0.10311835 0.10855354 0.11078272 0.10336882 0.09362555 0.08598622\n",
            " 0.10316844 0.10386976 0.10261741 0.09966187 0.0903444  0.08541014\n",
            " 0.08969317 0.08846587 0.09430182 0.09675642 0.0910958  0.07428929\n",
            " 0.06930495 0.08822204 0.08564417 0.08493036 0.08524691 0.08596519\n",
            " 0.08676837 0.08753309 0.08822469 0.08884171 0.08939348 0.08989269\n",
            " 0.09035298 0.0907879  0.09120981 0.09162916 0.09205383 0.09248914\n",
            " 0.09293774 0.09340008 0.09387474 0.09435919]\n",
            "21 day output [[0.09485008]]\n",
            "22 day input [0.13660614 0.13041954 0.1261866  0.12804008 0.12265498 0.11944897\n",
            " 0.12303068 0.11927364 0.1265623  0.14174076 0.11772073 0.12140263\n",
            " 0.11403882 0.10985598 0.11932373 0.1253851  0.11742016 0.11496556\n",
            " 0.10917971 0.11003131 0.11251096 0.10770194 0.08926738 0.07854728\n",
            " 0.08919224 0.09833438 0.09908579 0.09665623 0.08328115 0.0841077\n",
            " 0.08050094 0.07889793 0.09054477 0.07899812 0.08909205 0.09244834\n",
            " 0.09272386 0.09154665 0.10126487 0.10672511 0.11396368 0.10647464\n",
            " 0.09507827 0.12247965 0.11646838 0.10973075 0.09565435 0.08025047\n",
            " 0.07899812 0.08035066 0.08180338 0.07020664 0.10026299 0.10735128\n",
            " 0.10379461 0.10820288 0.10507201 0.10990607 0.11133375 0.10311835\n",
            " 0.10855354 0.11078272 0.10336882 0.09362555 0.08598622 0.10316844\n",
            " 0.10386976 0.10261741 0.09966187 0.0903444  0.08541014 0.08969317\n",
            " 0.08846587 0.09430182 0.09675642 0.0910958  0.07428929 0.06930495\n",
            " 0.08822204 0.08564417 0.08493036 0.08524691 0.08596519 0.08676837\n",
            " 0.08753309 0.08822469 0.08884171 0.08939348 0.08989269 0.09035298\n",
            " 0.0907879  0.09120981 0.09162916 0.09205383 0.09248914 0.09293774\n",
            " 0.09340008 0.09387474 0.09435919 0.09485008]\n",
            "22 day output [[0.0953438]]\n",
            "23 day input [0.13041954 0.1261866  0.12804008 0.12265498 0.11944897 0.12303068\n",
            " 0.11927364 0.1265623  0.14174076 0.11772073 0.12140263 0.11403882\n",
            " 0.10985598 0.11932373 0.1253851  0.11742016 0.11496556 0.10917971\n",
            " 0.11003131 0.11251096 0.10770194 0.08926738 0.07854728 0.08919224\n",
            " 0.09833438 0.09908579 0.09665623 0.08328115 0.0841077  0.08050094\n",
            " 0.07889793 0.09054477 0.07899812 0.08909205 0.09244834 0.09272386\n",
            " 0.09154665 0.10126487 0.10672511 0.11396368 0.10647464 0.09507827\n",
            " 0.12247965 0.11646838 0.10973075 0.09565435 0.08025047 0.07899812\n",
            " 0.08035066 0.08180338 0.07020664 0.10026299 0.10735128 0.10379461\n",
            " 0.10820288 0.10507201 0.10990607 0.11133375 0.10311835 0.10855354\n",
            " 0.11078272 0.10336882 0.09362555 0.08598622 0.10316844 0.10386976\n",
            " 0.10261741 0.09966187 0.0903444  0.08541014 0.08969317 0.08846587\n",
            " 0.09430182 0.09675642 0.0910958  0.07428929 0.06930495 0.08822204\n",
            " 0.08564417 0.08493036 0.08524691 0.08596519 0.08676837 0.08753309\n",
            " 0.08822469 0.08884171 0.08939348 0.08989269 0.09035298 0.0907879\n",
            " 0.09120981 0.09162916 0.09205383 0.09248914 0.09293774 0.09340008\n",
            " 0.09387474 0.09435919 0.09485008 0.0953438 ]\n",
            "23 day output [[0.09583697]]\n",
            "24 day input [0.1261866  0.12804008 0.12265498 0.11944897 0.12303068 0.11927364\n",
            " 0.1265623  0.14174076 0.11772073 0.12140263 0.11403882 0.10985598\n",
            " 0.11932373 0.1253851  0.11742016 0.11496556 0.10917971 0.11003131\n",
            " 0.11251096 0.10770194 0.08926738 0.07854728 0.08919224 0.09833438\n",
            " 0.09908579 0.09665623 0.08328115 0.0841077  0.08050094 0.07889793\n",
            " 0.09054477 0.07899812 0.08909205 0.09244834 0.09272386 0.09154665\n",
            " 0.10126487 0.10672511 0.11396368 0.10647464 0.09507827 0.12247965\n",
            " 0.11646838 0.10973075 0.09565435 0.08025047 0.07899812 0.08035066\n",
            " 0.08180338 0.07020664 0.10026299 0.10735128 0.10379461 0.10820288\n",
            " 0.10507201 0.10990607 0.11133375 0.10311835 0.10855354 0.11078272\n",
            " 0.10336882 0.09362555 0.08598622 0.10316844 0.10386976 0.10261741\n",
            " 0.09966187 0.0903444  0.08541014 0.08969317 0.08846587 0.09430182\n",
            " 0.09675642 0.0910958  0.07428929 0.06930495 0.08822204 0.08564417\n",
            " 0.08493036 0.08524691 0.08596519 0.08676837 0.08753309 0.08822469\n",
            " 0.08884171 0.08939348 0.08989269 0.09035298 0.0907879  0.09120981\n",
            " 0.09162916 0.09205383 0.09248914 0.09293774 0.09340008 0.09387474\n",
            " 0.09435919 0.09485008 0.0953438  0.09583697]\n",
            "24 day output [[0.09632656]]\n",
            "25 day input [0.12804008 0.12265498 0.11944897 0.12303068 0.11927364 0.1265623\n",
            " 0.14174076 0.11772073 0.12140263 0.11403882 0.10985598 0.11932373\n",
            " 0.1253851  0.11742016 0.11496556 0.10917971 0.11003131 0.11251096\n",
            " 0.10770194 0.08926738 0.07854728 0.08919224 0.09833438 0.09908579\n",
            " 0.09665623 0.08328115 0.0841077  0.08050094 0.07889793 0.09054477\n",
            " 0.07899812 0.08909205 0.09244834 0.09272386 0.09154665 0.10126487\n",
            " 0.10672511 0.11396368 0.10647464 0.09507827 0.12247965 0.11646838\n",
            " 0.10973075 0.09565435 0.08025047 0.07899812 0.08035066 0.08180338\n",
            " 0.07020664 0.10026299 0.10735128 0.10379461 0.10820288 0.10507201\n",
            " 0.10990607 0.11133375 0.10311835 0.10855354 0.11078272 0.10336882\n",
            " 0.09362555 0.08598622 0.10316844 0.10386976 0.10261741 0.09966187\n",
            " 0.0903444  0.08541014 0.08969317 0.08846587 0.09430182 0.09675642\n",
            " 0.0910958  0.07428929 0.06930495 0.08822204 0.08564417 0.08493036\n",
            " 0.08524691 0.08596519 0.08676837 0.08753309 0.08822469 0.08884171\n",
            " 0.08939348 0.08989269 0.09035298 0.0907879  0.09120981 0.09162916\n",
            " 0.09205383 0.09248914 0.09293774 0.09340008 0.09387474 0.09435919\n",
            " 0.09485008 0.0953438  0.09583697 0.09632656]\n",
            "25 day output [[0.09681016]]\n",
            "26 day input [0.12265498 0.11944897 0.12303068 0.11927364 0.1265623  0.14174076\n",
            " 0.11772073 0.12140263 0.11403882 0.10985598 0.11932373 0.1253851\n",
            " 0.11742016 0.11496556 0.10917971 0.11003131 0.11251096 0.10770194\n",
            " 0.08926738 0.07854728 0.08919224 0.09833438 0.09908579 0.09665623\n",
            " 0.08328115 0.0841077  0.08050094 0.07889793 0.09054477 0.07899812\n",
            " 0.08909205 0.09244834 0.09272386 0.09154665 0.10126487 0.10672511\n",
            " 0.11396368 0.10647464 0.09507827 0.12247965 0.11646838 0.10973075\n",
            " 0.09565435 0.08025047 0.07899812 0.08035066 0.08180338 0.07020664\n",
            " 0.10026299 0.10735128 0.10379461 0.10820288 0.10507201 0.10990607\n",
            " 0.11133375 0.10311835 0.10855354 0.11078272 0.10336882 0.09362555\n",
            " 0.08598622 0.10316844 0.10386976 0.10261741 0.09966187 0.0903444\n",
            " 0.08541014 0.08969317 0.08846587 0.09430182 0.09675642 0.0910958\n",
            " 0.07428929 0.06930495 0.08822204 0.08564417 0.08493036 0.08524691\n",
            " 0.08596519 0.08676837 0.08753309 0.08822469 0.08884171 0.08939348\n",
            " 0.08989269 0.09035298 0.0907879  0.09120981 0.09162916 0.09205383\n",
            " 0.09248914 0.09293774 0.09340008 0.09387474 0.09435919 0.09485008\n",
            " 0.0953438  0.09583697 0.09632656 0.09681016]\n",
            "26 day output [[0.09728611]]\n",
            "27 day input [0.11944897 0.12303068 0.11927364 0.1265623  0.14174076 0.11772073\n",
            " 0.12140263 0.11403882 0.10985598 0.11932373 0.1253851  0.11742016\n",
            " 0.11496556 0.10917971 0.11003131 0.11251096 0.10770194 0.08926738\n",
            " 0.07854728 0.08919224 0.09833438 0.09908579 0.09665623 0.08328115\n",
            " 0.0841077  0.08050094 0.07889793 0.09054477 0.07899812 0.08909205\n",
            " 0.09244834 0.09272386 0.09154665 0.10126487 0.10672511 0.11396368\n",
            " 0.10647464 0.09507827 0.12247965 0.11646838 0.10973075 0.09565435\n",
            " 0.08025047 0.07899812 0.08035066 0.08180338 0.07020664 0.10026299\n",
            " 0.10735128 0.10379461 0.10820288 0.10507201 0.10990607 0.11133375\n",
            " 0.10311835 0.10855354 0.11078272 0.10336882 0.09362555 0.08598622\n",
            " 0.10316844 0.10386976 0.10261741 0.09966187 0.0903444  0.08541014\n",
            " 0.08969317 0.08846587 0.09430182 0.09675642 0.0910958  0.07428929\n",
            " 0.06930495 0.08822204 0.08564417 0.08493036 0.08524691 0.08596519\n",
            " 0.08676837 0.08753309 0.08822469 0.08884171 0.08939348 0.08989269\n",
            " 0.09035298 0.0907879  0.09120981 0.09162916 0.09205383 0.09248914\n",
            " 0.09293774 0.09340008 0.09387474 0.09435919 0.09485008 0.0953438\n",
            " 0.09583697 0.09632656 0.09681016 0.09728611]\n",
            "27 day output [[0.09775335]]\n",
            "28 day input [0.12303068 0.11927364 0.1265623  0.14174076 0.11772073 0.12140263\n",
            " 0.11403882 0.10985598 0.11932373 0.1253851  0.11742016 0.11496556\n",
            " 0.10917971 0.11003131 0.11251096 0.10770194 0.08926738 0.07854728\n",
            " 0.08919224 0.09833438 0.09908579 0.09665623 0.08328115 0.0841077\n",
            " 0.08050094 0.07889793 0.09054477 0.07899812 0.08909205 0.09244834\n",
            " 0.09272386 0.09154665 0.10126487 0.10672511 0.11396368 0.10647464\n",
            " 0.09507827 0.12247965 0.11646838 0.10973075 0.09565435 0.08025047\n",
            " 0.07899812 0.08035066 0.08180338 0.07020664 0.10026299 0.10735128\n",
            " 0.10379461 0.10820288 0.10507201 0.10990607 0.11133375 0.10311835\n",
            " 0.10855354 0.11078272 0.10336882 0.09362555 0.08598622 0.10316844\n",
            " 0.10386976 0.10261741 0.09966187 0.0903444  0.08541014 0.08969317\n",
            " 0.08846587 0.09430182 0.09675642 0.0910958  0.07428929 0.06930495\n",
            " 0.08822204 0.08564417 0.08493036 0.08524691 0.08596519 0.08676837\n",
            " 0.08753309 0.08822469 0.08884171 0.08939348 0.08989269 0.09035298\n",
            " 0.0907879  0.09120981 0.09162916 0.09205383 0.09248914 0.09293774\n",
            " 0.09340008 0.09387474 0.09435919 0.09485008 0.0953438  0.09583697\n",
            " 0.09632656 0.09681016 0.09728611 0.09775335]\n",
            "28 day output [[0.09821147]]\n",
            "29 day input [0.11927364 0.1265623  0.14174076 0.11772073 0.12140263 0.11403882\n",
            " 0.10985598 0.11932373 0.1253851  0.11742016 0.11496556 0.10917971\n",
            " 0.11003131 0.11251096 0.10770194 0.08926738 0.07854728 0.08919224\n",
            " 0.09833438 0.09908579 0.09665623 0.08328115 0.0841077  0.08050094\n",
            " 0.07889793 0.09054477 0.07899812 0.08909205 0.09244834 0.09272386\n",
            " 0.09154665 0.10126487 0.10672511 0.11396368 0.10647464 0.09507827\n",
            " 0.12247965 0.11646838 0.10973075 0.09565435 0.08025047 0.07899812\n",
            " 0.08035066 0.08180338 0.07020664 0.10026299 0.10735128 0.10379461\n",
            " 0.10820288 0.10507201 0.10990607 0.11133375 0.10311835 0.10855354\n",
            " 0.11078272 0.10336882 0.09362555 0.08598622 0.10316844 0.10386976\n",
            " 0.10261741 0.09966187 0.0903444  0.08541014 0.08969317 0.08846587\n",
            " 0.09430182 0.09675642 0.0910958  0.07428929 0.06930495 0.08822204\n",
            " 0.08564417 0.08493036 0.08524691 0.08596519 0.08676837 0.08753309\n",
            " 0.08822469 0.08884171 0.08939348 0.08989269 0.09035298 0.0907879\n",
            " 0.09120981 0.09162916 0.09205383 0.09248914 0.09293774 0.09340008\n",
            " 0.09387474 0.09435919 0.09485008 0.0953438  0.09583697 0.09632656\n",
            " 0.09681016 0.09728611 0.09775335 0.09821147]\n",
            "29 day output [[0.0986606]]\n",
            "[[0.08822204172611237], [0.08564417064189911], [0.08493036031723022], [0.08524690568447113], [0.08596518635749817], [0.08676837384700775], [0.08753308653831482], [0.08822469413280487], [0.08884170651435852], [0.0893934816122055], [0.0898926854133606], [0.09035298228263855], [0.09078790247440338], [0.09120981395244598], [0.09162916243076324], [0.09205383062362671], [0.09248913824558258], [0.09293773770332336], [0.09340007603168488], [0.0938747376203537], [0.09435918927192688], [0.0948500782251358], [0.09534379839897156], [0.09583696722984314], [0.0963265597820282], [0.09681016206741333], [0.09728610515594482], [0.09775334596633911], [0.09821146726608276], [0.09866060316562653]]\n"
          ]
        }
      ]
    },
    {
      "cell_type": "code",
      "source": [
        "np.array(lst_output)"
      ],
      "metadata": {
        "colab": {
          "base_uri": "https://localhost:8080/"
        },
        "id": "WyLMKfS3t9_Y",
        "outputId": "cd5daa04-6065-40a2-a43f-ced8d7fe2339"
      },
      "execution_count": 44,
      "outputs": [
        {
          "output_type": "execute_result",
          "data": {
            "text/plain": [
              "array([[0.08822204],\n",
              "       [0.08564417],\n",
              "       [0.08493036],\n",
              "       [0.08524691],\n",
              "       [0.08596519],\n",
              "       [0.08676837],\n",
              "       [0.08753309],\n",
              "       [0.08822469],\n",
              "       [0.08884171],\n",
              "       [0.08939348],\n",
              "       [0.08989269],\n",
              "       [0.09035298],\n",
              "       [0.0907879 ],\n",
              "       [0.09120981],\n",
              "       [0.09162916],\n",
              "       [0.09205383],\n",
              "       [0.09248914],\n",
              "       [0.09293774],\n",
              "       [0.09340008],\n",
              "       [0.09387474],\n",
              "       [0.09435919],\n",
              "       [0.09485008],\n",
              "       [0.0953438 ],\n",
              "       [0.09583697],\n",
              "       [0.09632656],\n",
              "       [0.09681016],\n",
              "       [0.09728611],\n",
              "       [0.09775335],\n",
              "       [0.09821147],\n",
              "       [0.0986606 ]])"
            ]
          },
          "metadata": {},
          "execution_count": 44
        }
      ]
    },
    {
      "cell_type": "markdown",
      "source": [
        "### Plotting the predicted stock values seperately and in detail :"
      ],
      "metadata": {
        "id": "TDhh3mRP6ep8"
      }
    },
    {
      "cell_type": "code",
      "source": [
        "day_new=np.arange(859,1259)\n",
        "plt.plot(day_new,np.array(df1).reshape(-1,1)[859:1259,0])"
      ],
      "metadata": {
        "colab": {
          "base_uri": "https://localhost:8080/",
          "height": 283
        },
        "id": "a1euw8Xs6Ooe",
        "outputId": "98c1b51f-b571-4ead-da63-f4afbd3a49c6"
      },
      "execution_count": 45,
      "outputs": [
        {
          "output_type": "execute_result",
          "data": {
            "text/plain": [
              "[<matplotlib.lines.Line2D at 0x7f7c2f5be7f0>]"
            ]
          },
          "metadata": {},
          "execution_count": 45
        },
        {
          "output_type": "display_data",
          "data": {
            "text/plain": [
              "<Figure size 432x288 with 1 Axes>"
            ],
            "image/png": "[encoded data removed]"
          },
          "metadata": {
            "needs_background": "light"
          }
        }
      ]
    },
    {
      "cell_type": "code",
      "source": [
        "day_pred=np.arange(1259,1289)\n",
        "\n",
        "# Concatenating the whole time series :\n",
        "conc = np.concatenate((np.array(df1).reshape(-1,1),scaler.inverse_transform(lst_output)),axis=0)\n",
        "\n",
        "# plotting\n",
        "plt.plot(day_new,np.array(df1).reshape(-1,1)[859:1259,0])\n",
        "plt.plot(day_pred,scaler.inverse_transform(lst_output));"
      ],
      "metadata": {
        "colab": {
          "base_uri": "https://localhost:8080/",
          "height": 265
        },
        "id": "0572bIOhsdq0",
        "outputId": "f25bdf65-58ca-43cb-c6b6-7bc77e601896"
      },
      "execution_count": 47,
      "outputs": [
        {
          "output_type": "display_data",
          "data": {
            "text/plain": [
              "<Figure size 432x288 with 1 Axes>"
            ],
            "image/png": "[encoded data removed]"
          },
          "metadata": {
            "needs_background": "light"
          }
        }
      ]
    },
    {
      "cell_type": "markdown",
      "source": [
        "### Putting up all together :"
      ],
      "metadata": {
        "id": "Ai9PjjYW6y_2"
      }
    },
    {
      "cell_type": "code",
      "source": [
        "plt.plot(np.arange(859,1289),conc[859:1289,0]);"
      ],
      "metadata": {
        "colab": {
          "base_uri": "https://localhost:8080/",
          "height": 265
        },
        "id": "bRDOL2owySQI",
        "outputId": "bdd9e424-e152-45d4-a6c4-7c4dd7d06c93"
      },
      "execution_count": 42,
      "outputs": [
        {
          "output_type": "display_data",
          "data": {
            "text/plain": [
              "<Figure size 432x288 with 1 Axes>"
            ],
            "image/png": "[encoded data removed]"
          },
          "metadata": {
            "needs_background": "light"
          }
        }
      ]
    }
  ]
}